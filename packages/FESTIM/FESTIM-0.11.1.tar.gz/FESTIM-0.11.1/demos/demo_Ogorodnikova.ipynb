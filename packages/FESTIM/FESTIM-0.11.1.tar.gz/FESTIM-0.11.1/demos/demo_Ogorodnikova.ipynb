{
 "cells": [
  {
   "cell_type": "markdown",
   "metadata": {},
   "source": [
    " In this tutorial, we will demonstrate how to implement a time-dependent simulation of hydrogen isotopes diffusion-trapping followed by Thermal Desorption Spectrometry (TDS). The aim is to reproduce the experimental results presented in [Ogorodnikova _et al_ (J. Nucl. Mater. 313-316 (2003) 469-477.)](https://www.sciencedirect.com/science/article/pii/S0022311502013752?via%3Dihub) using FESTIM."
   ]
  },
  {
   "cell_type": "markdown",
   "metadata": {},
   "source": [
    "# 1. Setting the parameters,\n",
    "The first step is to create a FESTIM `Simulation` object. The parameters needed for the simulation are added in the following steps."
   ]
  },
  {
   "cell_type": "code",
   "execution_count": 1,
   "metadata": {},
   "outputs": [],
   "source": [
    "import festim as F\n",
    "\n",
    "my_model = F.Simulation()"
   ]
  },
  {
   "cell_type": "markdown",
   "metadata": {},
   "source": [
    "FESTIM provides a simple way to define refined meshes.\n",
    "The size of the 1D domain we wish to mesh is set in the arugment: `size` and is expressed in $\\text{m}$. In our case, we simulate a $20 \\: \\mu \\text{m}$ slab. We start with a broad mesh of 200 cells and then iteratively refine it.\n",
    "The following code performs a first refinement within the first $3 \\: \\mu \\text{m}$ in order to have at least 300 cells in this region. We will do the same for the first $30 \\: \\text{nm}$ where we want at least 120 cells."
   ]
  },
  {
   "cell_type": "code",
   "execution_count": 2,
   "metadata": {},
   "outputs": [
    {
     "name": "stdout",
     "output_type": "stream",
     "text": [
      "Meshing ...\n",
      "Mesh size before local refinement is 200\n",
      "Mesh size after local refinement is 650\n",
      "Mesh size before local refinement is 650\n",
      "Mesh size after local refinement is 798\n"
     ]
    }
   ],
   "source": [
    "my_model.mesh = F.MeshFromRefinements(\n",
    "    initial_number_of_cells=200,\n",
    "    size=20e-06,\n",
    "    refinements=[\n",
    "        {\n",
    "            \"cells\": 300,\n",
    "            \"x\": 3e-6\n",
    "        },\n",
    "        {\n",
    "            \"cells\": 120,\n",
    "            \"x\": 30e-9\n",
    "        }\n",
    "    ]\n",
    ")"
   ]
  },
  {
   "cell_type": "markdown",
   "metadata": {},
   "source": [
    "### 1.2 Material properties\n",
    "Materials are defined in `Material` objects. In our case, we have only one material (tungsten), thus only one `Material` is required.\n",
    "\n",
    "\n",
    "`borders` represents the boundaries of the 1D domain in $\\text{m}$.\n",
    "\n",
    "`E_D` is the energy barrier for diffusion expressed in $\\text{eV}$.\n",
    "\n",
    "`D_0` is the pre-exponential factor of the Arhenius' law for the diffusion coefficient expressed in $\\text{m}^{2}\\text{s}^{-1}$.\n",
    "\n",
    "The diffusion coefficient is expressed as:\n",
    "\\begin{equation}\n",
    "    D(T) = D_{0} e^{\\frac{-E_{diff}}{k_B \\cdot T}}\n",
    "\\end{equation}\n",
    "\n",
    "where $T$ is the temperature in $\\text{K}$ and $k_B = 8.6\\times 10 ^{-5} \\: \\text{eV/K}$ the Boltzmann constant.\n",
    "\n",
    "Finally, `id` is the id of the material subdomain. In this case, there is only one.\n",
    "\n",
    "A list of all materials are then given to a `Materials` object."
   ]
  },
  {
   "cell_type": "code",
   "execution_count": 3,
   "metadata": {},
   "outputs": [],
   "source": [
    "tungsten = F.Material(\n",
    "    id=1,\n",
    "    D_0=4.1e-07,\n",
    "    E_D=0.39,\n",
    "    borders=[0, 20e-06]\n",
    ")\n",
    "my_model.materials = F.Materials([tungsten])"
   ]
  },
  {
   "cell_type": "markdown",
   "metadata": {},
   "source": [
    "### 1.3 Volumetric source term\n",
    "We define next the volumetric source term for the simulation as a dict.\n",
    "First we import the sympy package needed to handle the source term as a sympy object in FESTIM.\n",
    "\n",
    "The source term is defined as:\n",
    "\\begin{equation}\n",
    "    S_{ext} = \\varphi \\cdot f(x) \\quad \\forall t<400 \\text{s}\n",
    "\\end{equation}\n",
    "\n",
    "where $\\varphi =2.5 \\times 10^{19} \\text{m}^{-2}\\text{s}^{-1}$ and $f(x)$ is a Gaussian spatial distribution with a mean value of $4.5 \\: \\text{nm}$ and a width of $2.5 \\: \\text{nm}$.\n",
    "\n",
    "Above, `t` and `x` are built-in FESTIM variables that respectively represent time in $\\text{s}$ and the $x$ position in $\\text{m}$."
   ]
  },
  {
   "cell_type": "code",
   "execution_count": 4,
   "metadata": {},
   "outputs": [],
   "source": [
    "import sympy as sp\n",
    "\n",
    "ion_flux = sp.Piecewise((2.5e19, F.t <= 400), (0, True))\n",
    "source_term = F.ImplantationFlux(\n",
    "    flux=ion_flux,\n",
    "    imp_depth=4.5e-9,\n",
    "    width=2.5e-9,\n",
    "    volume=1\n",
    ")\n",
    "\n",
    "my_model.sources = [source_term]"
   ]
  },
  {
   "cell_type": "markdown",
   "metadata": {},
   "source": [
    "### 1.4 Traps\n",
    "\n",
    "In FESTIM, each trap is defined by a `Trap` object.\n",
    "Relevent arguments for each trap include:\n",
    "\n",
    "`k_0` and `E_k` are the trapping rate pre-exponential factor in $\\text{m}^{3} \\text{s}^{-1}$ and activation energy in $\\text{eV}$, respectively.\n",
    "\n",
    "`p_0` and `E_p` are the detrapping rate pre-exponential factor in $\\text{s}^{-1}$ and activation energy in $\\text{eV}$, respectively.\n",
    "\n",
    "`materials` is a list of the materials' ids, in which the trap is located.\n",
    "\n",
    "A list of all traps are then given to a `Traps` object.\n",
    "\n",
    "In FESTIM, traps are intrinsic by default. However, traps can also be implemented as extrinsic, as shown in the example hereafter corresponding to 2 intrinsic and 1 extrinsic trap.\n",
    "\n",
    "The time evolution of extrinsic traps density $n_i$ expressed in $\\text{m}^{-3}$ is defined as:\n",
    "\\begin{equation}\n",
    "    \\frac{dn_i}{dt} = \\varphi_0\\:\\left[\\left(1-\\frac{n_i}{n_{a_{max}}}\\right)\\:\\eta_a \\:f_a(x)+\\left(1-\\frac{n_i}{n_{b_{max}}}\\right)\\:\\eta_b \\:f_b(x)\\right]\n",
    "\\end{equation}"
   ]
  },
  {
   "cell_type": "code",
   "execution_count": 5,
   "metadata": {},
   "outputs": [],
   "source": [
    "w_atom_density = 6.3e28\n",
    "\n",
    "trap_1 = F.Trap(\n",
    "        k_0=4.1e-7/(1.1e-10**2*6*w_atom_density),\n",
    "        E_k=0.39,\n",
    "        p_0=1e13,\n",
    "        E_p=0.87,\n",
    "        density=1.3e-3*w_atom_density,\n",
    "        materials=tungsten\n",
    "    )\n",
    "trap_2 = F.Trap(\n",
    "        k_0=4.1e-7/(1.1e-10**2*6*w_atom_density),\n",
    "        E_k=0.39,\n",
    "        p_0=1e13,\n",
    "        E_p=1.0,\n",
    "        density=4e-4*w_atom_density,\n",
    "        materials=tungsten\n",
    "    )\n",
    "\n",
    "center = 4.5e-9\n",
    "width = 2.5e-9\n",
    "distribution = 1/(width*(2*sp.pi)**0.5) * sp.exp(-0.5*((F.x-center)/width)**2)\n",
    "trap_3 = F.ExtrinsicTrap(\n",
    "        k_0=4.1e-7/(1.1e-10**2*6*w_atom_density),\n",
    "        E_k=0.39,\n",
    "        p_0=1e13,\n",
    "        E_p=1.5,\n",
    "        phi_0=ion_flux,\n",
    "        n_amax=1e-01*w_atom_density, f_a=distribution, eta_a=6e-4,\n",
    "        n_bmax=1e-02*w_atom_density, f_b=sp.Piecewise((1e6, F.x < 1e-6), (0, True)), eta_b=2e-4,\n",
    "        materials=tungsten\n",
    "    )\n",
    "\n",
    "my_model.traps = F.Traps([trap_1, trap_2, trap_3])"
   ]
  },
  {
   "cell_type": "markdown",
   "metadata": {},
   "source": [
    "### 1.5 Boundary conditions\n",
    "\n",
    "Boundary conditions (BCs) can be of several types in FESTIM, the most simple of them being the `DirichletBC` where an analytical expression is given in the argument: `value`. The argument `surfaces` contains a list of all the surfaces on which the BC is applied. If no BC is applied on a surface, it will be considered as a non flux surface (ie $\\frac{\\partial c}{\\partial\\textbf{n}} = 0$).\n",
    "\n",
    "In this case, the solute concentration is set to zero on surfaces 1 and 2 (left and right)."
   ]
  },
  {
   "cell_type": "code",
   "execution_count": 6,
   "metadata": {},
   "outputs": [],
   "source": [
    "my_model.boundary_conditions = [\n",
    "    F.DirichletBC(surfaces=[1, 2], value=0, field=0)\n",
    "]"
   ]
  },
  {
   "cell_type": "markdown",
   "metadata": {},
   "source": [
    "### 1.6 Temperature\n",
    "\n",
    "Temperature has a major effect on HIs' behaviour.\n",
    "\n",
    "In this example, the temperature is constant from $t=0$ to $t=450 \\text{s}$ (implantation phase), then increases from $t=450 \\text{s}$ to $t=500 \\text{s}$ in order to perform the thermo-desorption (TDS phase).\n",
    "\n",
    "\\begin{equation}\n",
    "    T(t) =\n",
    "    \\begin{cases}\n",
    "        300, & \\text{if} \\: t < 450 \\\\\n",
    "        300 + 8(t - 450), & \\text{else} \\\\\n",
    "    \\end{cases}\n",
    "\\end{equation}\n",
    "\n",
    "$T$ is expressed in $\\text{K}$."
   ]
  },
  {
   "cell_type": "code",
   "execution_count": 7,
   "metadata": {},
   "outputs": [],
   "source": [
    "my_model.T = F.Temperature(\n",
    "    value=sp.Piecewise((300, F.t < 450), (300 + 8*(F.t-450), True))\n",
    ")"
   ]
  },
  {
   "cell_type": "markdown",
   "metadata": {},
   "source": [
    "### 1.7 Solver stepsize\n",
    "\n",
    "The `Stepsize` object defines the simulation stepsize.\n",
    "\n",
    "The argument `initial_value` is the initial stepsize is expressed in $\\text{s}$.\n",
    "\n",
    "An adaptive stepsize algorithm has been implemented in order to save computational cost.\n",
    "`stepsize_change_ratio` defines by how much the stepsize is increased or decreased after each iteration (depending on the number of Newton iterations required to converged).\n",
    "`dt_min` is the lower limit for the stepsize below which the computation will stop.\n",
    "\n",
    "Note: the optional argument `t_stop` is the time when we want the stepsize to be below a value set in `stepsize_stop_max` in order to have temporal refinement at the end of the run. It is useful in our case since we want temporal refinement during the TDS phase."
   ]
  },
  {
   "cell_type": "code",
   "execution_count": 8,
   "metadata": {},
   "outputs": [],
   "source": [
    "my_model.dt = F.Stepsize(\n",
    "    initial_value=0.5,\n",
    "    stepsize_change_ratio=1.1,\n",
    "    t_stop=430,\n",
    "    stepsize_stop_max=0.5,\n",
    "    dt_min=1e-05\n",
    ")"
   ]
  },
  {
   "cell_type": "markdown",
   "metadata": {},
   "source": [
    "### 1.7 Solver settings\n",
    "\n",
    "`Settings` holds several parameters such as the Newton solver parameters, the final time of the simulation and others.\n",
    "\n",
    "The Newton solver used in FEniCS can be tweaked by setting `absolute_tolerance` and `relative_tolerance` as well as the `maximum_iterations` at each step.\n",
    "\n",
    "As seen before, this run corresponds to a 450s implantation phase followed by 50s of TDS, which corresponds to a $500 \\text{s}$ `final_time`."
   ]
  },
  {
   "cell_type": "code",
   "execution_count": 9,
   "metadata": {},
   "outputs": [],
   "source": [
    "my_model.settings = F.Settings(\n",
    "    absolute_tolerance=1e10,\n",
    "    relative_tolerance=1e-09,\n",
    "    maximum_iterations=50,\n",
    "    final_time=500\n",
    ")"
   ]
  },
  {
   "cell_type": "markdown",
   "metadata": {},
   "source": [
    "### 1.8 Exports\n",
    "\n",
    "The quantities exported by FESTIM are defined using the `Exports` object.\n",
    "\n",
    "Derived quantities such as the total inventory can be computed for each timestep.\n",
    "\n",
    "`\"solute\"` refers to the mobile concentration of HIs, $i$ (*eg* `\"1\"`, `\"2\"`...) is the concentration of HIs trapped in trap $i$ and `\"retention\"` is the total amount of HIs. `label` will be the name of the exports files.\n",
    "\n",
    "In the example below, all exports will be stored in the folder solution_ogorodnikova/.\n",
    "\n",
    "\n",
    "> Note:\n",
    "> in 1D, the `checkpoint` argument needs to be set to `False` to be able to visualise the XDMF file in Paraview.\n",
    ">"
   ]
  },
  {
   "cell_type": "code",
   "execution_count": 10,
   "metadata": {},
   "outputs": [],
   "source": [
    "folder = \"solution_ogorodnikova\"\n",
    "\n",
    "my_derived_quantities = F.DerivedQuantities(\n",
    "    filename=\"{}/derived_quantities.csv\".format(folder),\n",
    ")\n",
    "\n",
    "my_derived_quantities.derived_quantities = [\n",
    "    F.TotalVolume(\"solute\", volume=1),\n",
    "    F.TotalVolume(\"retention\", volume=1),\n",
    "    F.TotalVolume(\"1\", volume=1),\n",
    "    F.TotalVolume(\"2\", volume=1),\n",
    "    F.TotalVolume(\"3\", volume=1),\n",
    "    F.HydrogenFlux(surface=1),\n",
    "    F.HydrogenFlux(surface=2)\n",
    "]\n",
    "\n",
    "my_model.exports = F.Exports([\n",
    "    F.XDMFExport(\"solute\", folder=folder, checkpoint=False),\n",
    "    F.XDMFExport(\"1\", folder=folder, checkpoint=False),\n",
    "    F.XDMFExport(\"2\", folder=folder, checkpoint=False),\n",
    "    F.XDMFExport(\"3\", folder=folder, checkpoint=False),\n",
    "    F.XDMFExport(\"retention\", folder=folder, checkpoint=False),\n",
    "    my_derived_quantities\n",
    "])"
   ]
  },
  {
   "cell_type": "markdown",
   "metadata": {},
   "source": [
    "# 2. Running the simulation\n",
    "\n",
    "Now that all the parameters have been set, the simulation is run using the `initialise()` and `run()` methods."
   ]
  },
  {
   "cell_type": "code",
   "execution_count": 11,
   "metadata": {},
   "outputs": [
    {
     "name": "stdout",
     "output_type": "stream",
     "text": [
      "Defining initial values\n",
      "Defining variational problem\n",
      "Defining source terms\n",
      "Defining boundary conditions\n",
      "Time stepping...\n",
      "Solved problem in 25.40 s   Ellapsed time so far: 25.1 s\n"
     ]
    }
   ],
   "source": [
    "my_model.initialise()\n",
    "my_model.run()"
   ]
  },
  {
   "cell_type": "markdown",
   "metadata": {},
   "source": [
    "# 3. Output"
   ]
  },
  {
   "cell_type": "markdown",
   "metadata": {},
   "source": [
    "The desorption spectrum (ie. desorption flux as function of time) can be calculated by using the derived quantities as follow."
   ]
  },
  {
   "cell_type": "code",
   "execution_count": 12,
   "metadata": {},
   "outputs": [
    {
     "name": "stdout",
     "output_type": "stream",
     "text": [
      "[['t(s)' 'Total solute volume 1' 'Total retention volume 1' ...\n",
      "  'Total 3 volume 1' 'Flux surface 1: solute' 'Flux surface 2: solute']\n",
      " ['0.5' '1.0464618043019412e+16' '3.0125975327654456e+18' ... '0.0'\n",
      "  '-1.7997998229239828e+19' '8.259813758608895e-289']\n",
      " ['0.9545454545454546' '1.6863413047040852e+16' '4.582655916067673e+18'\n",
      "  ... '5643555217322503.0' '-2.0568992601366647e+19'\n",
      "  '5.646615766635804e-288']\n",
      " ...\n",
      " ['499.4466775686087' '2392252178364395.0' '2.291790973177855e+17' ...\n",
      "  '2.073036851192339e+17' '-1.4249741432603026e+17'\n",
      "  '-1.191478989546696e+16']\n",
      " ['499.9466775686087' '1779083884310904.0' '1.6675766781572218e+17' ...\n",
      "  '1.5126198837606352e+17' '-1.160161450033635e+17' '-8826307648239354.0']\n",
      " ['500.0' '1712718894295892.5' '1.6029690612614243e+17' ...\n",
      "  '1.4545570893844176e+17' '-1.1268028403284336e+17'\n",
      "  '-8483377953739254.0']]\n"
     ]
    }
   ],
   "source": [
    "import numpy as np\n",
    "\n",
    "np.set_printoptions(threshold=20)\n",
    "print(np.array(my_derived_quantities.data))"
   ]
  },
  {
   "cell_type": "code",
   "execution_count": 13,
   "metadata": {},
   "outputs": [
    {
     "data": {
      "image/png": "[encoded data removed]",
      "text/plain": [
       "<Figure size 432x288 with 1 Axes>"
      ]
     },
     "metadata": {
      "needs_background": "light"
     },
     "output_type": "display_data"
    }
   ],
   "source": [
    "# compute total flux and trap contributions\n",
    "\n",
    "t = my_derived_quantities.t\n",
    "flux_left = my_derived_quantities.filter(fields=\"solute\", surfaces=1).data\n",
    "flux_right = my_derived_quantities.filter(fields=\"solute\", surfaces=2).data\n",
    "\n",
    "flux_total = -np.array(flux_left) - np.array(flux_right)\n",
    "\n",
    "trap_1 = my_derived_quantities.filter(fields=\"1\").data\n",
    "trap_2 = my_derived_quantities.filter(fields=\"2\").data\n",
    "trap_3 = my_derived_quantities.filter(fields=\"3\").data\n",
    "\n",
    "contribution_trap_1 = -np.diff(trap_1)/np.diff(t)\n",
    "contribution_trap_2 = -np.diff(trap_2)/np.diff(t)\n",
    "contribution_trap_3 = -np.diff(trap_3)/np.diff(t)\n",
    "\n",
    "# plot\n",
    "import matplotlib.pyplot as plt\n",
    "plt.plot(t, flux_total, linewidth=3)\n",
    "plt.plot(t[1:], contribution_trap_1, linestyle=\"--\", color=\"grey\")\n",
    "plt.fill_between(t[1:], 0, contribution_trap_1, facecolor='grey', alpha=0.1)\n",
    "plt.plot(t[1:], contribution_trap_2, linestyle=\"--\", color=\"grey\")\n",
    "plt.fill_between(t[1:], 0, contribution_trap_2, facecolor='grey', alpha=0.1)\n",
    "plt.plot(t[1:], contribution_trap_3, linestyle=\"--\", color=\"grey\")\n",
    "plt.fill_between(t[1:], 0, contribution_trap_3, facecolor='grey', alpha=0.1)\n",
    "\n",
    "plt.xlim(450, 500)\n",
    "plt.ylim(bottom=-1.25e18, top=0.6e19)\n",
    "plt.ylabel(r\"Desorption flux (m$^{-2}$ s$^{-1}$)\")\n",
    "plt.xlabel(r\"Time (s)\")\n",
    "plt.minorticks_on()\n",
    "plt.grid(which='minor', alpha=0.3)\n",
    "plt.grid(which='major', alpha=0.7)"
   ]
  }
 ],
 "metadata": {
  "file_extension": ".py",
  "kernelspec": {
   "display_name": "Python 3.6.9 64-bit",
   "language": "python",
   "name": "python3"
  },
  "language_info": {
   "codemirror_mode": {
    "name": "ipython",
    "version": 3
   },
   "file_extension": ".py",
   "mimetype": "text/x-python",
   "name": "python",
   "nbconvert_exporter": "python",
   "pygments_lexer": "ipython3",
   "version": "3.6.9"
  },
  "mimetype": "text/x-python",
  "name": "python",
  "npconvert_exporter": "python",
  "pygments_lexer": "ipython3",
  "version": 3,
  "vscode": {
   "interpreter": {
    "hash": "31f2aee4e71d21fbe5cf8b01ff0e069b9275f58929596ceb00d14d90e3e16cd6"
   }
  }
 },
 "nbformat": 4,
 "nbformat_minor": 2
}
