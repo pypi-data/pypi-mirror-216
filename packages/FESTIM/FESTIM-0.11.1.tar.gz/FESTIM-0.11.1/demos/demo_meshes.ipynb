{
 "cells": [
  {
   "cell_type": "code",
   "execution_count": 1,
   "metadata": {},
   "outputs": [],
   "source": [
    "import festim\n",
    "from fenics import plot\n",
    "import matplotlib.pyplot as plt"
   ]
  },
  {
   "cell_type": "markdown",
   "metadata": {},
   "source": [
    "# 1D meshes"
   ]
  },
  {
   "cell_type": "markdown",
   "metadata": {},
   "source": [
    "## Mesh from vertices"
   ]
  },
  {
   "cell_type": "code",
   "execution_count": 2,
   "metadata": {},
   "outputs": [
    {
     "data": {
      "text/plain": [
       "[<matplotlib.lines.Line2D at 0x7f26114e2710>]"
      ]
     },
     "execution_count": 2,
     "metadata": {},
     "output_type": "execute_result"
    },
    {
     "data": {
      "image/png": "[encoded data removed]",
      "text/plain": [
       "<Figure size 1080x72 with 1 Axes>"
      ]
     },
     "metadata": {
      "needs_background": "light"
     },
     "output_type": "display_data"
    },
    {
     "data": {
      "image/png": "[encoded data removed]",
      "text/plain": [
       "<Figure size 1080x72 with 1 Axes>"
      ]
     },
     "metadata": {
      "needs_background": "light"
     },
     "output_type": "display_data"
    },
    {
     "data": {
      "image/png": "[encoded data removed]",
      "text/plain": [
       "<Figure size 1080x72 with 1 Axes>"
      ]
     },
     "metadata": {
      "needs_background": "light"
     },
     "output_type": "display_data"
    }
   ],
   "source": [
    "import numpy as np\n",
    "\n",
    "# linspace\n",
    "my_mesh = festim.MeshFromVertices(np.linspace(1, 10, num=10))\n",
    "\n",
    "plt.figure(figsize=(15, 1))\n",
    "plot(my_mesh.mesh)\n",
    "\n",
    "# logspace\n",
    "my_mesh = festim.MeshFromVertices(np.logspace(-1, 1, num=20))\n",
    "\n",
    "plt.figure(figsize=(15, 1))\n",
    "plot(my_mesh.mesh)\n",
    "\n",
    "# custom\n",
    "my_mesh = festim.MeshFromVertices([1, 3, 5, 5.5, 6, 10])\n",
    "\n",
    "plt.figure(figsize=(15, 1))\n",
    "plot(my_mesh.mesh)"
   ]
  },
  {
   "cell_type": "markdown",
   "metadata": {},
   "source": [
    "## Iterative refinements"
   ]
  },
  {
   "cell_type": "code",
   "execution_count": 3,
   "metadata": {},
   "outputs": [
    {
     "name": "stdout",
     "output_type": "stream",
     "text": [
      "Meshing ...\n",
      "Mesh size before local refinement is 10\n",
      "Mesh size after local refinement is 25\n",
      "Mesh size before local refinement is 25\n",
      "Mesh size after local refinement is 33\n"
     ]
    },
    {
     "data": {
      "text/plain": [
       "[<matplotlib.lines.Line2D at 0x7f2610da8b70>]"
      ]
     },
     "execution_count": 3,
     "metadata": {},
     "output_type": "execute_result"
    },
    {
     "data": {
      "text/plain": [
       "<Figure size 4320x72 with 0 Axes>"
      ]
     },
     "metadata": {},
     "output_type": "display_data"
    },
    {
     "data": {
      "image/png": "[encoded data removed]",
      "text/plain": [
       "<Figure size 432x288 with 1 Axes>"
      ]
     },
     "metadata": {
      "needs_background": "light"
     },
     "output_type": "display_data"
    }
   ],
   "source": [
    "refinements = [\n",
    "    {\n",
    "        \"cells\": 6,\n",
    "        \"x\": 0.5\n",
    "    },\n",
    "    {\n",
    "        \"cells\": 5,\n",
    "        \"x\": 0.2\n",
    "    }\n",
    "]\n",
    "\n",
    "my_mesh = festim.MeshFromRefinements(10, size=1, refinements=refinements)\n",
    "\n",
    "plt.figure(figsize=(60, 1))\n",
    "plt.figure()\n",
    "plot(my_mesh.mesh)"
   ]
  },
  {
   "cell_type": "markdown",
   "metadata": {},
   "source": [
    "# 1D & 2D meshes"
   ]
  },
  {
   "cell_type": "markdown",
   "metadata": {},
   "source": [
    "## Mesh created with FEniCS"
   ]
  },
  {
   "cell_type": "code",
   "execution_count": 4,
   "metadata": {},
   "outputs": [
    {
     "data": {
      "text/plain": [
       "[<matplotlib.lines.Line2D at 0x7f26105053c8>,\n",
       " <matplotlib.lines.Line2D at 0x7f2610505780>]"
      ]
     },
     "execution_count": 4,
     "metadata": {},
     "output_type": "execute_result"
    },
    {
     "data": {
      "image/png": "[encoded data removed]",
      "text/plain": [
       "<Figure size 432x288 with 1 Axes>"
      ]
     },
     "metadata": {
      "needs_background": "light"
     },
     "output_type": "display_data"
    }
   ],
   "source": [
    "from fenics import Point, RectangleMesh, CompiledSubDomain, MeshFunction\n",
    "\n",
    "# creating a mesh with FEniCS\n",
    "nx = ny = 5\n",
    "mesh_fenics = RectangleMesh(Point(0, 0), Point(1, 2), nx, ny)\n",
    "\n",
    "# marking physical groups (volumes and surfaces)\n",
    "volume_markers = MeshFunction(\"size_t\", mesh_fenics, mesh_fenics.topology().dim())\n",
    "\n",
    "tol = 1e-14\n",
    "subdomain_1 = CompiledSubDomain('x[1] <= 0.5 + tol', tol=tol)\n",
    "subdomain_2 = CompiledSubDomain('x[1] >= 0.5 - tol', tol=tol)\n",
    "\n",
    "volume_markers.set_all(1)\n",
    "subdomain_1.mark(volume_markers, 1)\n",
    "subdomain_2.mark(volume_markers, 2)\n",
    "\n",
    "\n",
    "left_surface = CompiledSubDomain('on_boundary && near(x[0], 0, tol)',\n",
    "                                tol=tol)\n",
    "right_surface = CompiledSubDomain('on_boundary && near(x[0], 1, tol)',\n",
    "                                     tol=tol)\n",
    "surface_markers = MeshFunction(\"size_t\", mesh_fenics, mesh_fenics.topology().dim() - 1)\n",
    "surface_markers.set_all(0)\n",
    "left_surface.mark(surface_markers, 1)\n",
    "right_surface.mark(surface_markers, 2)\n",
    "\n",
    "# creating mesh with FESTIM\n",
    "my_mesh = festim.Mesh(\n",
    "    mesh=mesh_fenics,\n",
    "    volume_markers=volume_markers,\n",
    "    surface_markers=surface_markers\n",
    ")\n",
    "\n",
    "plt.figure()\n",
    "plot(my_mesh.mesh)"
   ]
  },
  {
   "cell_type": "markdown",
   "metadata": {},
   "source": [
    "## Mesh from XDMF file"
   ]
  },
  {
   "cell_type": "code",
   "execution_count": 5,
   "metadata": {},
   "outputs": [
    {
     "name": "stdout",
     "output_type": "stream",
     "text": [
      "Succesfully load mesh with 50 cells\n"
     ]
    },
    {
     "data": {
      "text/plain": [
       "[<matplotlib.lines.Line2D at 0x7f261006d828>,\n",
       " <matplotlib.lines.Line2D at 0x7f261006d978>]"
      ]
     },
     "execution_count": 5,
     "metadata": {},
     "output_type": "execute_result"
    },
    {
     "data": {
      "image/png": "[encoded data removed]",
      "text/plain": [
       "<Figure size 432x288 with 1 Axes>"
      ]
     },
     "metadata": {
      "needs_background": "light"
     },
     "output_type": "display_data"
    }
   ],
   "source": [
    "# create an XDMF file\n",
    "from fenics import XDMFFile\n",
    "\n",
    "mesh_file = XDMFFile(\"mesh.xdmf\")\n",
    "mesh_file.write(my_mesh.mesh)\n",
    "\n",
    "sm_file = XDMFFile(\"surface_markers.xdmf\")\n",
    "mesh_file.write(volume_markers)\n",
    "sm_file.write(surface_markers)\n",
    "\n",
    "# creating mesh with FESTIM\n",
    "my_mesh = festim.MeshFromXDMF(volume_file=\"mesh.xdmf\", boundary_file= \"surface_markers.xdmf\")\n",
    "\n",
    "plt.figure()\n",
    "plot(my_mesh.mesh)"
   ]
  }
 ],
 "metadata": {
  "kernelspec": {
   "display_name": "Python 3.6.9 64-bit",
   "language": "python",
   "name": "python3"
  },
  "language_info": {
   "codemirror_mode": {
    "name": "ipython",
    "version": 3
   },
   "file_extension": ".py",
   "mimetype": "text/x-python",
   "name": "python",
   "nbconvert_exporter": "python",
   "pygments_lexer": "ipython3",
   "version": "3.6.9"
  },
  "vscode": {
   "interpreter": {
    "hash": "31f2aee4e71d21fbe5cf8b01ff0e069b9275f58929596ceb00d14d90e3e16cd6"
   }
  }
 },
 "nbformat": 4,
 "nbformat_minor": 2
}
