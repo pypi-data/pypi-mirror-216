{
 "cells": [
  {
   "cell_type": "markdown",
   "metadata": {},
   "source": [
    "# Post-processing with festim: derived quantities\n",
    "In this tutorial, we will show the wide range of derived quantities that can be computed as a post process in festim and how to plot them with matplotlib."
   ]
  },
  {
   "cell_type": "markdown",
   "metadata": {},
   "source": [
    "## 1. Problem definition\n",
    "\n",
    "The test case for this tutorial will be a 2D composite domain with 2 traps.\n",
    "\n",
    " <p align=\"center\">\n",
    "  <img src=\"https://user-images.githubusercontent.com/40028739/104911125-a85da380-598a-11eb-9ba2-9e105f478759.jpg\" width=\"40%\">\n",
    "</p>\n",
    "\n",
    "\n",
    "- $\\Omega = [0;10^{-7}] \\times [0;10^{-7}]$\n",
    "- $\\Omega_2 = [5\\times 10^{-8};10^{-7}] \\times [5\\times 10^{-8};10^{-7}]$\n",
    "- $\\Omega_1 = \\Omega \\; / \\; \\Omega_2$\n",
    "- $D(T) = \\begin{cases}\n",
    "    4.1\\times 10^{-7} \\exp{(-0.39/k_B T)}, & \\text{on } \\Omega_1\\\\\n",
    "    5.0\\times 10^{-7} \\exp{(-0.50/k_B T)}, & \\text{on } \\Omega_2\n",
    "    \\end{cases}$\n",
    "- Trap 1 in $\\Omega_1$:\n",
    "    - Density: $n_1 = 6\\times 10^{25} \\text{ m}^{-3}$\n",
    "    - Trapping rate: $k(T) = 3.8 \\times 10^{-17} \\exp{(-0.39/k_B T)} \\text{ s}^{-1}$\n",
    "    - Detrapping rate: $p(T) = 10^{13} \\exp{(-0.87/k_B T)} \\text{ s}^{-1}$\n",
    "- Trap 2 in $\\Omega_2$:\n",
    "    - Density: $n_2 = 6\\times 10^{25} \\text{ m}^{-3}$\n",
    "    - Trapping rate: $k(T) = 3.8 \\times 10^{-17} \\exp{(-0.39/k_B T)} \\text{ s}^{-1}$\n",
    "    - Detrapping rate: $p(T) = 10^{13} \\exp{(-1.0/k_B T)} \\text{ s}^{-1}$\n",
    "\n",
    "Two Dirichlet boundary conditions will be imposed on $\\Gamma_\\mathrm{left}$ and $\\Gamma_\\mathrm{bottom}$.\n",
    "\n",
    "- $c_\\mathrm{m} = 10^{15} \\; \\mathrm{m}^{-3} \\quad \\text{on } \\Gamma_\\mathrm{left}$\n",
    "- $c_\\mathrm{m} = 0 \\; \\mathrm{m}^{-3} \\quad \\text{on }\\Gamma_\\mathrm{bottom}$\n",
    "\n",
    "All the other surfaces are insulated ($\\nabla c_\\mathrm{m} \\cdot n = 0$).\n",
    "\n",
    "## 2. Implementation\n",
    "The first step is to create a festim Simulation object"
   ]
  },
  {
   "cell_type": "code",
   "execution_count": 1,
   "metadata": {},
   "outputs": [],
   "source": [
    "import festim as F\n",
    "\n",
    "my_model = F.Simulation()"
   ]
  },
  {
   "cell_type": "markdown",
   "metadata": {},
   "source": [
    "Then, let's create a mesh using FEniCS commands."
   ]
  },
  {
   "cell_type": "code",
   "execution_count": 2,
   "metadata": {},
   "outputs": [],
   "source": [
    "from fenics import Point, RectangleMesh, CompiledSubDomain, MeshFunction\n",
    "\n",
    "# creating a 2D mesh with FEniCS\n",
    "nx = ny = 14\n",
    "mesh_fenics = RectangleMesh(Point(0, 0), Point(1e-7, 1e-7), nx, ny)\n",
    "\n",
    "# marking volumes\n",
    "volume_markers = MeshFunction(\"size_t\", mesh_fenics, mesh_fenics.topology().dim())\n",
    "\n",
    "volume_markers.set_all(1)\n",
    "\n",
    "tol = 1e-14\n",
    "\n",
    "subdomain_2 = CompiledSubDomain('x[1] >= 0.5e-7 - tol && x[0] >= 0.5e-7 - tol', tol=tol)\n",
    "subdomain_2.mark(volume_markers, 2)\n",
    "\n",
    "# marking surfaces\n",
    "surface_markers = MeshFunction(\"size_t\", mesh_fenics, mesh_fenics.topology().dim() - 1)\n",
    "\n",
    "left_surface = CompiledSubDomain('on_boundary && near(x[0], 0, tol)',\n",
    "                                tol=tol)\n",
    "bottom_surface = CompiledSubDomain('on_boundary && near(x[1], 0, tol)',\n",
    "                                     tol=tol)\n",
    "surface_markers.set_all(0)\n",
    "left_surface.mark(surface_markers, 1)\n",
    "bottom_surface.mark(surface_markers, 2)\n",
    "\n",
    "# creating mesh with festim\n",
    "my_model.mesh = F.Mesh(\n",
    "    mesh=mesh_fenics,\n",
    "    volume_markers=volume_markers,\n",
    "    surface_markers=surface_markers\n",
    ")"
   ]
  },
  {
   "cell_type": "markdown",
   "metadata": {},
   "source": [
    "The two materials will have different diffusion coefficients."
   ]
  },
  {
   "cell_type": "code",
   "execution_count": 3,
   "metadata": {},
   "outputs": [],
   "source": [
    "mat_1 = F.Material(\n",
    "        D_0=4.1e-07,\n",
    "        E_D=0.39,\n",
    "        id=1\n",
    "    )\n",
    "\n",
    "mat_2 = F.Material(\n",
    "        D_0=5e-07,\n",
    "        E_D=0.5,\n",
    "        id=2\n",
    "    )\n",
    "\n",
    "my_model.materials = F.Materials([mat_1, mat_2])"
   ]
  },
  {
   "cell_type": "markdown",
   "metadata": {},
   "source": [
    "The same traps as in the Ogorodnikova demo will be used."
   ]
  },
  {
   "cell_type": "code",
   "execution_count": 4,
   "metadata": {},
   "outputs": [],
   "source": [
    "my_model.traps = F.Traps([\n",
    "    F.Trap(\n",
    "        k_0=3.8e-17,\n",
    "        E_k=0.39,\n",
    "        p_0=1e13,\n",
    "        E_p=0.87,\n",
    "        density=6e25,\n",
    "        materials=mat_1\n",
    "    ),\n",
    "    F.Trap(\n",
    "        k_0=3.8e-17,\n",
    "        E_k=0.39,\n",
    "        p_0=1e13,\n",
    "        E_p=1.0,\n",
    "        density=5e24,\n",
    "        materials=mat_2\n",
    "    )\n",
    "])"
   ]
  },
  {
   "cell_type": "markdown",
   "metadata": {},
   "source": [
    "Two Dirichlet boundary conditions will be imposed on $\\Gamma_\\mathrm{left}$ (id 1) and $\\Gamma_\\mathrm{bottom}$ (id 2).\n",
    "\n",
    "- $c_\\mathrm{m} = 10^{15} \\; \\mathrm{m}^{-3} \\text{  on } \\Gamma_\\mathrm{left}$\n",
    "- $c_\\mathrm{m} = 0 \\; \\mathrm{m}^{-3} \\text{  on }\\Gamma_\\mathrm{bottom}$\n",
    "\n",
    "All the other surfaces are insulated ($\\nabla c_\\mathrm{m} \\cdot n = 0$)."
   ]
  },
  {
   "cell_type": "code",
   "execution_count": 5,
   "metadata": {},
   "outputs": [],
   "source": [
    "my_model.boundary_conditions = [\n",
    "    F.DirichletBC(\n",
    "        surfaces=1,\n",
    "        value=1e15,\n",
    "        field=0\n",
    "    ),\n",
    "    F.DirichletBC(\n",
    "        surfaces=2,\n",
    "        value=0,\n",
    "        field=0\n",
    "    )\n",
    "]"
   ]
  },
  {
   "cell_type": "markdown",
   "metadata": {},
   "source": [
    "The temperature will increase linearly with time: $T(t) = 400 + 3t$ "
   ]
  },
  {
   "cell_type": "code",
   "execution_count": 6,
   "metadata": {},
   "outputs": [],
   "source": [
    "my_model.T = F.Temperature(\n",
    "    value=400 + 3*F.t\n",
    ")"
   ]
  },
  {
   "cell_type": "code",
   "execution_count": 7,
   "metadata": {},
   "outputs": [],
   "source": [
    "my_model.dt = F.Stepsize(\n",
    "    initial_value=0.005,\n",
    "    stepsize_change_ratio=1.1,\n",
    "    dt_min=1e-05\n",
    ")\n",
    "\n",
    "my_model.settings = F.Settings(\n",
    "    absolute_tolerance=1e0,\n",
    "    relative_tolerance=1e-09,\n",
    "    maximum_iterations = 50,\n",
    "    final_time=10,\n",
    "    traps_element_type=\"DG\"\n",
    ")"
   ]
  },
  {
   "cell_type": "markdown",
   "metadata": {},
   "source": [
    "festim can provide a wide range of post-processing quantities called `derived quantities`.\n",
    "They include:\n",
    "- Volume integration (`TotalVolume`)\n",
    "- Surface integration (`TotalSurface`)\n",
    "- Surface fluxes (`SurfaceFlux`)\n",
    "    - Heat fluxes : $ \\varphi = \\int -\\lambda \\nabla T \\cdot n \\; dS $\n",
    "    - Particle fluxes : $ \\varphi = \\int -D \\nabla c_\\mathrm{m} \\cdot n \\; dS $\n",
    "- Average value on volumes (`AverageVolume`)\n",
    "- Minimum/maximum on volumes (`MinimumVolume`, `MaximumVolume`)"
   ]
  },
  {
   "cell_type": "code",
   "execution_count": 8,
   "metadata": {},
   "outputs": [],
   "source": [
    "my_derived_quantities = F.DerivedQuantities(\n",
    "    filename=\"solution_derived_quantities/derived_quantities.csv\",\n",
    ")\n",
    "\n",
    "my_derived_quantities.derived_quantities = [\n",
    "    F.TotalVolume(\"solute\", volume=1),\n",
    "    F.TotalVolume(\"solute\", volume=2),\n",
    "    F.TotalVolume(\"retention\", volume=1),\n",
    "    F.TotalVolume(\"retention\", volume=2),\n",
    "    F.TotalVolume(\"1\", volume=1),\n",
    "    F.TotalVolume(\"2\", volume=2),\n",
    "    F.HydrogenFlux(surface=0),\n",
    "    F.HydrogenFlux(surface=1),\n",
    "    F.HydrogenFlux(surface=2),\n",
    "    F.AverageVolume(\"solute\", volume=1),\n",
    "    F.AverageVolume(\"1\", volume=1),\n",
    "    F.AverageVolume(\"2\", volume=2),\n",
    "    F.AverageVolume(\"T\", volume=1),\n",
    "    F.TotalSurface(\"solute\", surface=0),\n",
    "    F.TotalSurface(\"solute\", surface=1),\n",
    "    F.TotalSurface(\"solute\", surface=2),\n",
    "    F.MaximumVolume(\"retention\", volume=1),\n",
    "    F.MaximumVolume(\"retention\", volume=2)\n",
    "]\n",
    "\n",
    "my_model.exports = F.Exports([\n",
    "    my_derived_quantities\n",
    "])"
   ]
  },
  {
   "cell_type": "markdown",
   "metadata": {},
   "source": [
    "Now that all the parameters have been set, the simulation can be initialised using the `initialise()` function and performed using the `run()` function"
   ]
  },
  {
   "cell_type": "code",
   "execution_count": 9,
   "metadata": {},
   "outputs": [
    {
     "name": "stdout",
     "output_type": "stream",
     "text": [
      "Defining initial values\n",
      "Defining variational problem\n",
      "Defining source terms\n",
      "Defining boundary conditions\n",
      "Time stepping...\n",
      "Solved problem in 2.80 s    Ellapsed time so far: 2.8 s\n"
     ]
    }
   ],
   "source": [
    "my_model.initialise()\n",
    "my_model.run()"
   ]
  },
  {
   "cell_type": "markdown",
   "metadata": {},
   "source": [
    "## 3. Post-processing\n",
    "Now that the simulation is over, the derived quantities are stored in `my_derived_quantities` and have been exported as a CSV file."
   ]
  },
  {
   "cell_type": "code",
   "execution_count": 10,
   "metadata": {},
   "outputs": [
    {
     "name": "stdout",
     "output_type": "stream",
     "text": [
      "['t(s)', 'Total solute volume 1', 'Total solute volume 2', 'Total retention volume 1', 'Total retention volume 2', 'Total 1 volume 1', 'Total 2 volume 2', 'Flux surface 0: solute', 'Flux surface 1: solute', 'Flux surface 2: solute', 'Average solute volume 1', 'Average 1 volume 1', 'Average 2 volume 2', 'Average T volume 1', 'Total solute surface 0', 'Total solute surface 1', 'Total solute surface 2', 'Maximum retention volume 1', 'Maximum retention volume 2']\n",
      "[[5.00000000e-03 1.47721291e+00 4.19917028e-02 ... 0.00000000e+00\n",
      "  9.09204542e+16 1.06162157e+15]\n",
      " [1.05000000e-02 1.72117520e+00 6.91835314e-02 ... 0.00000000e+00\n",
      "  1.52667228e+17 2.80754158e+15]\n",
      " [1.65500000e-02 1.94674053e+00 9.79224550e-02 ... 0.00000000e+00\n",
      "  1.93489694e+17 5.44344334e+15]\n",
      " ...\n",
      " [8.54359739e+00 3.75058154e+00 1.29117604e+00 ... 0.00000000e+00\n",
      "  1.11044826e+17 2.58963337e+17]\n",
      " [9.40295712e+00 3.74908365e+00 1.28343376e+00 ... 0.00000000e+00\n",
      "  1.02704328e+17 2.33705184e+17]\n",
      " [1.00000000e+01 3.74808592e+00 1.27847597e+00 ... 0.00000000e+00\n",
      "  9.73383993e+16 2.17789996e+17]]\n"
     ]
    }
   ],
   "source": [
    "import numpy as np\n",
    "\n",
    "header = my_derived_quantities.data[0]\n",
    "derived_quantities = np.array(my_derived_quantities.data[1:])\n",
    "\n",
    "print(header)\n",
    "print(derived_quantities)"
   ]
  },
  {
   "cell_type": "markdown",
   "metadata": {},
   "source": [
    "Alternatively, the derived quantities can be read from the exported CSV file."
   ]
  },
  {
   "cell_type": "code",
   "execution_count": 11,
   "metadata": {},
   "outputs": [],
   "source": [
    "data = np.genfromtxt(\"solution_derived_quantities/derived_quantities.csv\", delimiter=',', names=True)"
   ]
  },
  {
   "cell_type": "markdown",
   "metadata": {},
   "source": [
    "These derived quantities can be analysed and plotted using matplotlib (or some other visualisation tool).\n",
    "\n",
    "Below are some examples."
   ]
  },
  {
   "cell_type": "markdown",
   "metadata": {},
   "source": [
    "**Plotting inventories**"
   ]
  },
  {
   "cell_type": "code",
   "execution_count": 12,
   "metadata": {},
   "outputs": [
    {
     "data": {
      "image/png": "[encoded data removed]",
      "text/plain": [
       "<Figure size 432x288 with 2 Axes>"
      ]
     },
     "metadata": {
      "needs_background": "light"
     },
     "output_type": "display_data"
    }
   ],
   "source": [
    "t = np.array(my_derived_quantities.data[1:])[:, 0]\n",
    "\n",
    "retention_1 = my_derived_quantities.filter(volumes=1, fields=\"retention\", instances=F.TotalVolume)\n",
    "retention_2 = my_derived_quantities.filter(volumes=2, fields=\"retention\", instances=F.TotalVolume)\n",
    "\n",
    "trap_1 = my_derived_quantities.filter(volumes=1, fields=\"1\", instances=F.TotalVolume)\n",
    "trap_2 = my_derived_quantities.filter(volumes=2, fields=\"2\", instances=F.TotalVolume)\n",
    "\n",
    "solute_1 = my_derived_quantities.filter(volumes=1, fields=\"solute\", instances=F.TotalVolume)\n",
    "solute_2 = my_derived_quantities.filter(volumes=2, fields=\"solute\", instances=F.TotalVolume)\n",
    "\n",
    "# plot\n",
    "import matplotlib.pyplot as plt\n",
    "fig, (ax1, ax2) = plt.subplots(1, 2, sharey=True)\n",
    "ax1.plot(t, np.array(retention_1.data) + np.array(retention_2.data), linewidth=3, label=\"Total\")\n",
    "ax1.plot(t, np.array(retention_1.data), label=\"Volume 1\")\n",
    "ax1.plot(t, np.array(retention_2.data), label=\"Volume 2\")\n",
    "ax1.set_ylabel(r\"Inventory (H m$^{-1}$)\")\n",
    "ax1.set_xlabel(r\"Time (s)\")\n",
    "ax1.set_xscale(\"log\")\n",
    "ax1.legend()\n",
    "\n",
    "ax2.plot(t, np.array(retention_1.data) + np.array(retention_2.data), linewidth=3, label=\"Total\")\n",
    "ax2.plot(t, trap_1.data, label=\"Trap 1\")\n",
    "ax2.plot(t, trap_2.data, label=\"Trap 2\")\n",
    "ax2.plot(t, solute_1.data, label=\"Solute (vol1)\")\n",
    "ax2.plot(t, solute_2.data, label=\"Solute (vol2)\")\n",
    "ax2.set_xlabel(r\"Time (s)\")\n",
    "ax2.legend()\n",
    "ax2.set_xscale(\"log\")\n",
    "\n",
    "ax1.set_yscale(\"log\")"
   ]
  },
  {
   "cell_type": "markdown",
   "metadata": {},
   "source": [
    "**Plotting fluxes**"
   ]
  },
  {
   "cell_type": "code",
   "execution_count": 13,
   "metadata": {},
   "outputs": [
    {
     "data": {
      "text/plain": [
       "<matplotlib.legend.Legend at 0x7f56227a4d30>"
      ]
     },
     "execution_count": 13,
     "metadata": {},
     "output_type": "execute_result"
    },
    {
     "data": {
      "image/png": "[encoded data removed]",
      "text/plain": [
       "<Figure size 432x288 with 1 Axes>"
      ]
     },
     "metadata": {
      "needs_background": "light"
     },
     "output_type": "display_data"
    }
   ],
   "source": [
    "flux_other_surfaces = my_derived_quantities.filter(surfaces=0, fields=\"solute\", instances=F.SurfaceFlux).data\n",
    "flux_left = my_derived_quantities.filter(surfaces=1, fields=\"solute\", instances=F.SurfaceFlux).data\n",
    "flux_bottom = my_derived_quantities.filter(surfaces=2, fields=\"solute\", instances=F.SurfaceFlux).data\n",
    "\n",
    "flux_total = np.array(flux_left) + np.array(flux_bottom) + np.array(flux_other_surfaces)\n",
    "\n",
    "plt.figure()\n",
    "plt.plot(t, flux_total, linewidth=3, label=\"Total\")\n",
    "plt.plot(t, flux_left, label=\"Left\")\n",
    "plt.plot(t, flux_bottom, label=\"Bottom\")\n",
    "plt.plot(t, flux_other_surfaces, label=\"Others\")\n",
    "plt.ylabel(r\"Particle flux (H m$^{-1}$ s$^{-1}$)\")\n",
    "plt.xlabel(r\"Time (s)\")\n",
    "plt.xscale(\"log\")\n",
    "plt.legend()"
   ]
  },
  {
   "cell_type": "markdown",
   "metadata": {},
   "source": [
    "**Plotting maximum retention**"
   ]
  },
  {
   "cell_type": "code",
   "execution_count": 14,
   "metadata": {},
   "outputs": [
    {
     "data": {
      "text/plain": [
       "<matplotlib.legend.Legend at 0x7f5622674978>"
      ]
     },
     "execution_count": 14,
     "metadata": {},
     "output_type": "execute_result"
    },
    {
     "data": {
      "image/png": "[encoded data removed]",
      "text/plain": [
       "<Figure size 432x288 with 1 Axes>"
      ]
     },
     "metadata": {
      "needs_background": "light"
     },
     "output_type": "display_data"
    }
   ],
   "source": [
    "max_1 = my_derived_quantities.filter(volumes=1, fields=\"retention\", instances=F.MaximumVolume).data\n",
    "max_2 = my_derived_quantities.filter(volumes=2, fields=\"retention\", instances=F.MaximumVolume).data\n",
    "\n",
    "plt.figure()\n",
    "plt.loglog(t, max_1, label=r\"$\\Omega_1$\")\n",
    "plt.loglog(t, max_2, label=r\"$\\Omega_2$\")\n",
    "plt.ylabel(r\"Maximum retention (H m$^{-3}$)\")\n",
    "plt.xlabel(r\"Time (s)\")\n",
    "plt.legend()"
   ]
  },
  {
   "cell_type": "markdown",
   "metadata": {},
   "source": [
    "**Ploting average temperature**"
   ]
  },
  {
   "cell_type": "code",
   "execution_count": 15,
   "metadata": {},
   "outputs": [
    {
     "data": {
      "text/plain": [
       "Text(0.5, 0, 'Time (s)')"
      ]
     },
     "execution_count": 15,
     "metadata": {},
     "output_type": "execute_result"
    },
    {
     "data": {
      "image/png": "[encoded data removed]",
      "text/plain": [
       "<Figure size 432x288 with 1 Axes>"
      ]
     },
     "metadata": {
      "needs_background": "light"
     },
     "output_type": "display_data"
    }
   ],
   "source": [
    "T = my_derived_quantities.filter(volumes=1, fields=\"T\", instances=F.AverageVolume).data\n",
    "\n",
    "plt.figure()\n",
    "plt.plot(t, T)  \n",
    "plt.ylabel(r\"Temperature (K)\")\n",
    "plt.xlabel(r\"Time (s)\")"
   ]
  },
  {
   "cell_type": "markdown",
   "metadata": {},
   "source": [
    "**Plotting inventory on surfaces**"
   ]
  },
  {
   "cell_type": "code",
   "execution_count": 16,
   "metadata": {},
   "outputs": [
    {
     "data": {
      "text/plain": [
       "<matplotlib.legend.Legend at 0x7f56224395f8>"
      ]
     },
     "execution_count": 16,
     "metadata": {},
     "output_type": "execute_result"
    },
    {
     "data": {
      "image/png": "[encoded data removed]",
      "text/plain": [
       "<Figure size 432x288 with 1 Axes>"
      ]
     },
     "metadata": {
      "needs_background": "light"
     },
     "output_type": "display_data"
    }
   ],
   "source": [
    "solute_surf_0 = my_derived_quantities.filter(surfaces=0, fields=\"solute\", instances=F.TotalSurface).data\n",
    "solute_surf_1 = my_derived_quantities.filter(surfaces=1, fields=\"solute\", instances=F.TotalSurface).data\n",
    "solute_surf_2 = my_derived_quantities.filter(surfaces=2, fields=\"solute\", instances=F.TotalSurface).data\n",
    "\n",
    "plt.figure()\n",
    "plt.plot(t, solute_surf_1, label=\"Left\")\n",
    "plt.plot(t, solute_surf_2, label=\"Bottom\")\n",
    "plt.plot(t, solute_surf_0, label=\"Other surfaces\")\n",
    "plt.ylabel(r\"Solute particles on surfaces (H m$^{-1}$)\")\n",
    "plt.xlabel(r\"Time (s)\")\n",
    "plt.xscale(\"log\")\n",
    "plt.legend()"
   ]
  }
 ],
 "metadata": {
  "file_extension": ".py",
  "kernelspec": {
   "display_name": "Python 3.6.9 64-bit",
   "language": "python",
   "name": "python3"
  },
  "language_info": {
   "codemirror_mode": {
    "name": "ipython",
    "version": 3
   },
   "file_extension": ".py",
   "mimetype": "text/x-python",
   "name": "python",
   "nbconvert_exporter": "python",
   "pygments_lexer": "ipython3",
   "version": "3.6.9"
  },
  "mimetype": "text/x-python",
  "name": "python",
  "npconvert_exporter": "python",
  "pygments_lexer": "ipython3",
  "version": 3,
  "vscode": {
   "interpreter": {
    "hash": "31f2aee4e71d21fbe5cf8b01ff0e069b9275f58929596ceb00d14d90e3e16cd6"
   }
  }
 },
 "nbformat": 4,
 "nbformat_minor": 2
}
