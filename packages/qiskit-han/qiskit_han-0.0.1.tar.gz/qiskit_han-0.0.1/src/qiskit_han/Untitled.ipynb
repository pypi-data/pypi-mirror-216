{
 "cells": [
  {
   "cell_type": "code",
   "execution_count": 1,
   "id": "9650f380",
   "metadata": {},
   "outputs": [
    {
     "name": "stdout",
     "output_type": "stream",
     "text": [
      "Intel MKL WARNING: Support of Intel(R) Streaming SIMD Extensions 4.2 (Intel(R) SSE4.2) enabled only processors has been deprecated. Intel oneAPI Math Kernel Library 2025.0 will require Intel(R) Advanced Vector Extensions (Intel(R) AVX) instructions.\n",
      "Intel MKL WARNING: Support of Intel(R) Streaming SIMD Extensions 4.2 (Intel(R) SSE4.2) enabled only processors has been deprecated. Intel oneAPI Math Kernel Library 2025.0 will require Intel(R) Advanced Vector Extensions (Intel(R) AVX) instructions.\n"
     ]
    }
   ],
   "source": [
    "from qiskit import *"
   ]
  },
  {
   "cell_type": "code",
   "execution_count": 2,
   "id": "244e7e94",
   "metadata": {},
   "outputs": [],
   "source": [
    "from provider import MyProvider"
   ]
  },
  {
   "cell_type": "code",
   "execution_count": 3,
   "id": "4d2ef86b",
   "metadata": {},
   "outputs": [],
   "source": [
    "provider = MyProvider()"
   ]
  },
  {
   "cell_type": "code",
   "execution_count": 4,
   "id": "62879914",
   "metadata": {},
   "outputs": [],
   "source": [
    "backend = provider.get_backend(\"Han\")"
   ]
  },
  {
   "cell_type": "code",
   "execution_count": 5,
   "id": "1f2c4f19",
   "metadata": {},
   "outputs": [
    {
     "data": {
      "text/plain": [
       "<qiskit.circuit.instructionset.InstructionSet at 0x1312b11e0>"
      ]
     },
     "execution_count": 5,
     "metadata": {},
     "output_type": "execute_result"
    }
   ],
   "source": [
    "qc = QuantumCircuit(2,2)\n",
    "qc.x(0)\n",
    "qc.y(0)\n",
    "qc.measure([0,1], [0,1])"
   ]
  },
  {
   "cell_type": "code",
   "execution_count": 7,
   "id": "e6f0e4b1",
   "metadata": {},
   "outputs": [],
   "source": [
    "job = backend.run(qc)"
   ]
  },
  {
   "cell_type": "code",
   "execution_count": 12,
   "id": "1781a90d",
   "metadata": {},
   "outputs": [],
   "source": [
    "result = job.result()"
   ]
  },
  {
   "cell_type": "code",
   "execution_count": 13,
   "id": "a32840a1",
   "metadata": {},
   "outputs": [
    {
     "data": {
      "text/plain": [
       "{'00': 1024}"
      ]
     },
     "execution_count": 13,
     "metadata": {},
     "output_type": "execute_result"
    }
   ],
   "source": [
    "result.get_counts()"
   ]
  },
  {
   "cell_type": "code",
   "execution_count": null,
   "id": "97e3a7db",
   "metadata": {},
   "outputs": [],
   "source": []
  }
 ],
 "metadata": {
  "kernelspec": {
   "display_name": "Python [conda env:qiskit_project]",
   "language": "python",
   "name": "conda-env-qiskit_project-py"
  },
  "language_info": {
   "codemirror_mode": {
    "name": "ipython",
    "version": 3
   },
   "file_extension": ".py",
   "mimetype": "text/x-python",
   "name": "python",
   "nbconvert_exporter": "python",
   "pygments_lexer": "ipython3",
   "version": "3.11.3"
  }
 },
 "nbformat": 4,
 "nbformat_minor": 5
}
