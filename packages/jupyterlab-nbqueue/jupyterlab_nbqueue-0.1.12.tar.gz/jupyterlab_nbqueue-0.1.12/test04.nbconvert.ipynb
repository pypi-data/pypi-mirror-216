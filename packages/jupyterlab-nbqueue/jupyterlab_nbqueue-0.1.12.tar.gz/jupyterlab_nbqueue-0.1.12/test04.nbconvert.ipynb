{
 "cells": [
  {
   "cell_type": "code",
   "execution_count": 1,
   "id": "9974d0ab-b445-4605-ad0c-9eaa93379188",
   "metadata": {
    "execution": {
     "iopub.execute_input": "2023-06-26T14:33:51.508041Z",
     "iopub.status.busy": "2023-06-26T14:33:51.507734Z",
     "iopub.status.idle": "2023-06-26T14:34:01.524794Z",
     "shell.execute_reply": "2023-06-26T14:34:01.524061Z"
    }
   },
   "outputs": [
    {
     "name": "stdout",
     "output_type": "stream",
     "text": [
      "hello world\n"
     ]
    }
   ],
   "source": [
    "import time\n",
    "\n",
    "time.sleep(10)\n",
    "print('hello world')"
   ]
  }
 ],
 "metadata": {
  "kernelspec": {
   "display_name": "Python 3 (ipykernel)",
   "language": "python",
   "name": "python3"
  },
  "language_info": {
   "codemirror_mode": {
    "name": "ipython",
    "version": 3
   },
   "file_extension": ".py",
   "mimetype": "text/x-python",
   "name": "python",
   "nbconvert_exporter": "python",
   "pygments_lexer": "ipython3",
   "version": "3.11.4"
  }
 },
 "nbformat": 4,
 "nbformat_minor": 5
}
