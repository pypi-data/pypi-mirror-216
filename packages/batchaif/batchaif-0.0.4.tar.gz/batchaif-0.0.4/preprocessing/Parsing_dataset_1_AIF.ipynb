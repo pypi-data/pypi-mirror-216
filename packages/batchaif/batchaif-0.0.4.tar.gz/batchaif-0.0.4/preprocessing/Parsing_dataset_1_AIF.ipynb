{
 "cells": [
  {
   "cell_type": "markdown",
   "metadata": {},
   "source": [
    "# Importing useful libraries"
   ]
  },
  {
   "cell_type": "code",
   "execution_count": 1,
   "metadata": {},
   "outputs": [],
   "source": [
    "import os\n",
    "import numpy as np\n",
    "import pandas as pd"
   ]
  },
  {
   "cell_type": "markdown",
   "metadata": {
    "tags": []
   },
   "source": [
    "# Defining useful variables"
   ]
  },
  {
   "cell_type": "code",
   "execution_count": 2,
   "metadata": {},
   "outputs": [],
   "source": [
    "# Working directory\n",
    "workdir = '../'\n",
    "\n",
    "# Dataset name\n",
    "dataset_name = 'dataset_1'\n",
    "\n",
    "# Preprocessed data directory\n",
    "data_dir = f'{workdir}/data_preprocessed/'\n",
    "\n",
    "# Preprocessed data directory for AIF \n",
    "out_data_dir = f'{workdir}/InData/{dataset_name}'\n",
    "\n",
    "# Batch and cell types keys\n",
    "batch_key = 'batch'\n",
    "cell_type_key = 'cell_type'"
   ]
  },
  {
   "cell_type": "markdown",
   "metadata": {},
   "source": [
    "# Importing dataset 1"
   ]
  },
  {
   "cell_type": "code",
   "execution_count": 3,
   "metadata": {},
   "outputs": [],
   "source": [
    "data_norm = pd.read_csv(f'{data_dir}/{dataset_name}_norm.csv',index_col=0, header=0)\n",
    "data_norm_log = pd.read_csv(f'{data_dir}/{dataset_name}_norm_log.csv',index_col=0, header=0)\n",
    "data = pd.read_csv(f'{data_dir}/{dataset_name}.csv',index_col=0, header=0)"
   ]
  },
  {
   "cell_type": "markdown",
   "metadata": {},
   "source": [
    "# Retrieving features and labels data"
   ]
  },
  {
   "cell_type": "code",
   "execution_count": 4,
   "metadata": {},
   "outputs": [],
   "source": [
    "# Labels are batches: parsing batches to numerical \n",
    "y = np.asarray(data[batch_key].astype(\"category\").cat.codes)\n",
    "\n",
    "# Features are the genes expression matrix \n",
    "x_norm_log = np.asarray(data_norm_log.iloc[:,:-2])\n",
    "x_norm = np.asarray(data_norm.iloc[:,:-2])\n",
    "x = np.asarray(data.iloc[:,:-2])"
   ]
  },
  {
   "cell_type": "markdown",
   "metadata": {},
   "source": [
    "# Saving as csv files"
   ]
  },
  {
   "cell_type": "code",
   "execution_count": 5,
   "metadata": {},
   "outputs": [],
   "source": [
    "# Creating data directory\n",
    "if not os.path.isdir(data_dir):\n",
    "    os.mkdir(data_dir)\n",
    "    \n",
    "# Saving both files in InData directory\n",
    "pd.DataFrame(x).to_csv(f'{out_data_dir}/xTrain.csv',index=False)\n",
    "pd.DataFrame(x_norm).to_csv(f'{out_data_dir}/xTrain_norm.csv',index=False)\n",
    "pd.DataFrame(x_norm_log).to_csv(f'{out_data_dir}/xTrain_norm_log.csv',index=False)\n",
    "pd.DataFrame(y).to_csv(f'{out_data_dir}/yTrain.csv',index=False)"
   ]
  }
 ],
 "metadata": {
  "kernelspec": {
   "display_name": "cvaegan",
   "language": "python",
   "name": "cvaegan"
  },
  "language_info": {
   "codemirror_mode": {
    "name": "ipython",
    "version": 3
   },
   "file_extension": ".py",
   "mimetype": "text/x-python",
   "name": "python",
   "nbconvert_exporter": "python",
   "pygments_lexer": "ipython3",
   "version": "3.9.16"
  }
 },
 "nbformat": 4,
 "nbformat_minor": 4
}
