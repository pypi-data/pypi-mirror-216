{
 "cells": [
  {
   "cell_type": "markdown",
   "id": "9fdd7d1e-0b23-4896-bc3f-8385c206bcab",
   "metadata": {},
   "source": [
    "# Import useful libraries"
   ]
  },
  {
   "cell_type": "code",
   "execution_count": 1,
   "id": "fa92a1bf-4af5-42cd-b71a-59e717bd50f3",
   "metadata": {},
   "outputs": [],
   "source": [
    "import os\n",
    "import pandas as pd"
   ]
  },
  {
   "cell_type": "markdown",
   "id": "e7b274ac-6259-4b99-84fd-5a8749989919",
   "metadata": {},
   "source": [
    "# Defining useful paths"
   ]
  },
  {
   "cell_type": "code",
   "execution_count": 2,
   "id": "70acf358-4521-4b1d-8ce8-e3e970c4e03d",
   "metadata": {},
   "outputs": [],
   "source": [
    "workdir = '..'\n",
    "results_dir = f'{workdir}/Experiments'"
   ]
  },
  {
   "cell_type": "markdown",
   "id": "3a6cee9d-96a0-4dda-9365-67dca5043749",
   "metadata": {},
   "source": [
    "# I. Dataset 1 "
   ]
  },
  {
   "cell_type": "markdown",
   "id": "fdf7878f-420e-46bc-ab74-2aa10ee93114",
   "metadata": {
    "tags": []
   },
   "source": [
    "### Defining useful variables"
   ]
  },
  {
   "cell_type": "code",
   "execution_count": 3,
   "id": "863dfde2-bca1-466f-bf70-4c987d987adf",
   "metadata": {},
   "outputs": [],
   "source": [
    "# Dataset name\n",
    "file_name = 'fine_tuned_hyperparameters_set'\n",
    "dataset_name = 'dataset_1'\n",
    "\n",
    "# Relative weights compared to MSE loss in encoder loss\n",
    "alpha_list = [0.01]                      # Weight for KL loss\n",
    "beta_list = [0.0]                        # Weight for classification after reconstruction\n",
    "gamma_list = [0.3, 0.4, 0.5, 0.6, \n",
    "              0.7, 0.8]                  # Weight for aux encoder loss\n",
    "rho_list = [0.4, 0.5, 0.6, 0.7]          # Weight for classification loss\n",
    "delta_list = [0.1, 0.2]                  # Weight for generator loss"
   ]
  },
  {
   "cell_type": "markdown",
   "id": "191cf8b4-ea00-4dbb-a855-1d00dd991cff",
   "metadata": {},
   "source": [
    "### Create useful directories"
   ]
  },
  {
   "cell_type": "code",
   "execution_count": 4,
   "id": "3b31f9f0-8e64-4c1b-bf9c-955f90126823",
   "metadata": {
    "tags": []
   },
   "outputs": [],
   "source": [
    "if dataset_name not in os.listdir(results_dir):\n",
    "    os.mkdir(f'{results_dir}/{dataset_name}')\n",
    "if 'single_run_analysis' not in os.listdir(f'{results_dir}/{dataset_name}/'):\n",
    "    os.mkdir(f'{results_dir}/{dataset_name}/single_run_analysis')\n",
    "if 'multi_run_analysis' not in os.listdir(f'{results_dir}/{dataset_name}/'):\n",
    "    os.mkdir(f'{results_dir}/{dataset_name}/multi_run_analysis')"
   ]
  },
  {
   "cell_type": "markdown",
   "id": "73a4234a-d3af-4932-979f-6e55973646b4",
   "metadata": {},
   "source": [
    "### Creating the hyperparameters' grid"
   ]
  },
  {
   "cell_type": "code",
   "execution_count": 5,
   "id": "b3cdec1c-94a2-4308-95d4-4d8412a42b96",
   "metadata": {},
   "outputs": [],
   "source": [
    "# Creating the multiindex using cartesian product\n",
    "index = pd.MultiIndex.from_product([alpha_list, beta_list, gamma_list, rho_list, delta_list],\n",
    "                                   names=['alpha','beta','gamma','rho','delta'])\n",
    "\n",
    "# Creating the dataframe\n",
    "df = pd.DataFrame(index=index)"
   ]
  },
  {
   "cell_type": "markdown",
   "id": "2b1f937d-2a4e-4d60-8006-7f14fd6a9bbe",
   "metadata": {},
   "source": [
    "### Saving the hyperparameters' grid"
   ]
  },
  {
   "cell_type": "code",
   "execution_count": 6,
   "id": "1eea8fda-585a-4159-8d88-90d88a809c8c",
   "metadata": {},
   "outputs": [],
   "source": [
    "# Writing the dataframe to csv file\n",
    "df.to_csv(f'{results_dir}/{dataset_name}/single_run_analysis/{file_name}.csv')\n",
    "\n",
    "# Writing the dataframe to csv file\n",
    "df.to_csv(f'{results_dir}/{dataset_name}/multi_run_analysis/robust_{file_name}.csv')"
   ]
  },
  {
   "cell_type": "markdown",
   "id": "44adf4e8-abe3-447b-abda-8e1b8033ca87",
   "metadata": {},
   "source": [
    "# II. Dataset 1 norm log"
   ]
  },
  {
   "cell_type": "markdown",
   "id": "37cf7e8a-9398-4fbf-a6cc-981d6d339d12",
   "metadata": {
    "tags": []
   },
   "source": [
    "### Defining useful variables"
   ]
  },
  {
   "cell_type": "code",
   "execution_count": 7,
   "id": "36cf53e5-8123-4fd9-b53d-82bcf3fa3adf",
   "metadata": {},
   "outputs": [],
   "source": [
    "# Dataset name\n",
    "dataset_name = 'dataset_1'\n",
    "\n",
    "# Relative weights compared to MSE loss in encoder loss\n",
    "alpha_list = [0.05]                      # Weight for KL loss\n",
    "beta_list = [0.05]                       # Weight for classification after reconstruction\n",
    "gamma_list = [0.3, 0.4, 0.5, 0.6, \n",
    "              0.7, 0.8]                  # Weight for aux encoder loss\n",
    "rho_list = [0.4, 0.5, 0.6, 0.7]          # Weight for classification loss\n",
    "delta_list = [0.1, 0.2]                  # Weight for generator loss"
   ]
  },
  {
   "cell_type": "markdown",
   "id": "184589f6-d0eb-4407-98b0-e60c94a8dedc",
   "metadata": {},
   "source": [
    "### Create useful directories"
   ]
  },
  {
   "cell_type": "code",
   "execution_count": 8,
   "id": "f64a8d9e-07d0-4349-9c3f-f6ca0222f06e",
   "metadata": {
    "tags": []
   },
   "outputs": [],
   "source": [
    "if dataset_name not in os.listdir(results_dir):\n",
    "    os.mkdir(f'{results_dir}/{dataset_name}')\n",
    "if 'single_run_analysis' not in os.listdir(f'{results_dir}/{dataset_name}/'):\n",
    "    os.mkdir(f'{results_dir}/{dataset_name}/single_run_analysis')\n",
    "if 'multi_run_analysis' not in os.listdir(f'{results_dir}/{dataset_name}/'):\n",
    "    os.mkdir(f'{results_dir}/{dataset_name}/multi_run_analysis')"
   ]
  },
  {
   "cell_type": "markdown",
   "id": "b4508501-71c3-4062-904e-f10168c823a6",
   "metadata": {},
   "source": [
    "### Creating the hyperparameters' grid"
   ]
  },
  {
   "cell_type": "code",
   "execution_count": 9,
   "id": "4356e69b-2ae6-4cc8-9da7-b990f350b6c3",
   "metadata": {},
   "outputs": [],
   "source": [
    "# Creating the multiindex using cartesian product\n",
    "index = pd.MultiIndex.from_product([alpha_list, beta_list, gamma_list, rho_list, delta_list],\n",
    "                                   names=['alpha','beta','gamma','rho','delta'])\n",
    "\n",
    "# Creating the dataframe\n",
    "df = pd.DataFrame(index=index)"
   ]
  },
  {
   "cell_type": "markdown",
   "id": "160eaabe-61c4-46de-aa8a-5ea61ce39fd0",
   "metadata": {},
   "source": [
    "### Saving the hyperparameters' grid"
   ]
  },
  {
   "cell_type": "code",
   "execution_count": 10,
   "id": "55fe33f9-3eaf-481b-8e5b-6a295fa313ea",
   "metadata": {},
   "outputs": [],
   "source": [
    "# Writing the dataframe to csv file\n",
    "df.to_csv(f'{results_dir}/{dataset_name}/single_run_analysis/{file_name}_norm_log.csv')\n",
    "\n",
    "# Writing the dataframe to csv file\n",
    "df.to_csv(f'{results_dir}/{dataset_name}/multi_run_analysis/robust_{file_name}_norm_log.csv')"
   ]
  },
  {
   "cell_type": "markdown",
   "id": "f64c9163-9b8b-41c8-b23a-b3fd5abfff92",
   "metadata": {
    "tags": []
   },
   "source": [
    "# III. Dataset 1 with projection constraint"
   ]
  },
  {
   "cell_type": "markdown",
   "id": "b5e14d66-c16d-4822-8ae8-0c8b6e310926",
   "metadata": {
    "tags": []
   },
   "source": [
    "### Defining useful variables"
   ]
  },
  {
   "cell_type": "code",
   "execution_count": 11,
   "id": "ebd1dc68-681a-434d-be30-5a58ddc0ad5b",
   "metadata": {},
   "outputs": [],
   "source": [
    "# Dataset name\n",
    "dataset_name = 'dataset_1'\n",
    "\n",
    "# Relative weights compared to MSE loss in encoder loss\n",
    "alpha_list = [0.01]                      # Weight for KL loss\n",
    "beta_list = [0.0]                        # Weight for classification after reconstruction\n",
    "gamma_list = [0.3, 0.4, 0.5, 0.6, \n",
    "              0.7, 0.8]                  # Weight for aux encoder loss\n",
    "rho_list = [0.4, 0.5, 0.6, 0.7]          # Weight for classification loss\n",
    "delta_list = [0.1, 0.2]                  # Weight for generator loss\n",
    "mu_list = [0.1]                          # Weight for projection constraint loss"
   ]
  },
  {
   "cell_type": "markdown",
   "id": "1be13e25-d3a5-44ea-b165-ee35b11244e3",
   "metadata": {},
   "source": [
    "### Create useful directories"
   ]
  },
  {
   "cell_type": "code",
   "execution_count": 12,
   "id": "83ad490f-05b0-4c52-a29a-9fe08c2419d0",
   "metadata": {
    "tags": []
   },
   "outputs": [],
   "source": [
    "if dataset_name not in os.listdir(results_dir):\n",
    "    os.mkdir(f'{results_dir}/{dataset_name}')\n",
    "if 'single_run_analysis' not in os.listdir(f'{results_dir}/{dataset_name}/'):\n",
    "    os.mkdir(f'{results_dir}/{dataset_name}/single_run_analysis')\n",
    "if 'multi_run_analysis' not in os.listdir(f'{results_dir}/{dataset_name}/'):\n",
    "    os.mkdir(f'{results_dir}/{dataset_name}/multi_run_analysis')"
   ]
  },
  {
   "cell_type": "markdown",
   "id": "a6e29a61-3f03-4486-aa18-fed9a81bae91",
   "metadata": {},
   "source": [
    "### Creating the hyperparameters' grid"
   ]
  },
  {
   "cell_type": "code",
   "execution_count": 13,
   "id": "4bc1f29a-6f7e-4232-b337-3eda2d1182c7",
   "metadata": {},
   "outputs": [],
   "source": [
    "# Creating the multiindex using cartesian product\n",
    "index = pd.MultiIndex.from_product([mu_list, alpha_list, beta_list, gamma_list, rho_list, delta_list],\n",
    "                                   names=['mu','alpha','beta','gamma','rho','delta'])\n",
    "\n",
    "# Creating the dataframe\n",
    "df = pd.DataFrame(index=index)"
   ]
  },
  {
   "cell_type": "markdown",
   "id": "6425c5c8-608f-4ba0-865c-4e6c93cee2be",
   "metadata": {},
   "source": [
    "### Saving the hyperparameters' grid"
   ]
  },
  {
   "cell_type": "code",
   "execution_count": 14,
   "id": "f85c8719-864e-4376-bbe6-e8bb8c531ffc",
   "metadata": {},
   "outputs": [],
   "source": [
    "# Writing the dataframe to csv file\n",
    "df.to_csv(f'{results_dir}/{dataset_name}/single_run_analysis/proj_{file_name}.csv')\n",
    "\n",
    "# Writing the dataframe to csv file\n",
    "df.to_csv(f'{results_dir}/{dataset_name}/multi_run_analysis/robust_proj_{file_name}.csv')"
   ]
  },
  {
   "cell_type": "markdown",
   "id": "1c7f0caa-592c-4932-a195-888cbef2d820",
   "metadata": {},
   "source": [
    "# IV. Dataset 1 norm log with projection constraint"
   ]
  },
  {
   "cell_type": "markdown",
   "id": "83b4e223-0d25-4e04-806a-b0145f424ada",
   "metadata": {
    "tags": []
   },
   "source": [
    "### Defining useful variables"
   ]
  },
  {
   "cell_type": "code",
   "execution_count": 15,
   "id": "1e950a92-0d81-4af3-a9ca-9106a2678368",
   "metadata": {},
   "outputs": [],
   "source": [
    "# Dataset name\n",
    "dataset_name = 'dataset_1'\n",
    "\n",
    "# Relative weights compared to MSE loss in encoder loss\n",
    "alpha_list = [0.05]                      # Weight for KL loss\n",
    "beta_list = [0.05]                       # Weight for classification after reconstruction\n",
    "gamma_list = [0.3, 0.4, 0.5, 0.6, \n",
    "              0.7, 0.8]                  # Weight for aux encoder loss\n",
    "rho_list = [0.4, 0.5, 0.6, 0.7]          # Weight for classification loss\n",
    "delta_list = [0.1, 0.2]                  # Weight for generator loss\n",
    "mu_list = [0.1]                          # Weight for projection constraint loss"
   ]
  },
  {
   "cell_type": "markdown",
   "id": "9db2d203-dd31-4f33-9d93-585b6b893cf2",
   "metadata": {},
   "source": [
    "### Create useful directories"
   ]
  },
  {
   "cell_type": "code",
   "execution_count": 16,
   "id": "a1384c06-f04f-47f5-b7e2-ace406fb9f20",
   "metadata": {
    "tags": []
   },
   "outputs": [],
   "source": [
    "if dataset_name not in os.listdir(results_dir):\n",
    "    os.mkdir(f'{results_dir}/{dataset_name}')\n",
    "if 'single_run_analysis' not in os.listdir(f'{results_dir}/{dataset_name}/'):\n",
    "    os.mkdir(f'{results_dir}/{dataset_name}/single_run_analysis')\n",
    "if 'multi_run_analysis' not in os.listdir(f'{results_dir}/{dataset_name}/'):\n",
    "    os.mkdir(f'{results_dir}/{dataset_name}/multi_run_analysis')"
   ]
  },
  {
   "cell_type": "markdown",
   "id": "e428d63b-8836-43ed-8869-7a87a5d7741c",
   "metadata": {},
   "source": [
    "### Creating the hyperparameters' grid"
   ]
  },
  {
   "cell_type": "code",
   "execution_count": 17,
   "id": "5cb4e183-360e-4dfc-8a27-b1bb469f3823",
   "metadata": {},
   "outputs": [],
   "source": [
    "# Creating the multiindex using cartesian product\n",
    "index = pd.MultiIndex.from_product([mu_list, alpha_list, beta_list, gamma_list, rho_list, delta_list],\n",
    "                                   names=['mu','alpha','beta','gamma','rho','delta'])\n",
    "\n",
    "# Creating the dataframe\n",
    "df = pd.DataFrame(index=index)"
   ]
  },
  {
   "cell_type": "markdown",
   "id": "d96d47aa-25c5-4d78-9681-79675e6e2f55",
   "metadata": {},
   "source": [
    "### Saving the hyperparameters' grid"
   ]
  },
  {
   "cell_type": "code",
   "execution_count": 18,
   "id": "97e5d40a-3681-48e9-9592-534b6005128a",
   "metadata": {},
   "outputs": [],
   "source": [
    "# Writing the dataframe to csv file\n",
    "df.to_csv(f'{results_dir}/{dataset_name}/single_run_analysis/proj_{file_name}_norm_log.csv')\n",
    "\n",
    "# Writing the dataframe to csv file\n",
    "df.to_csv(f'{results_dir}/{dataset_name}/multi_run_analysis/robust_proj{file_name}_norm_log.csv')"
   ]
  }
 ],
 "metadata": {
  "kernelspec": {
   "display_name": "cvaegan",
   "language": "python",
   "name": "cvaegan"
  },
  "language_info": {
   "codemirror_mode": {
    "name": "ipython",
    "version": 3
   },
   "file_extension": ".py",
   "mimetype": "text/x-python",
   "name": "python",
   "nbconvert_exporter": "python",
   "pygments_lexer": "ipython3",
   "version": "3.9.16"
  }
 },
 "nbformat": 4,
 "nbformat_minor": 5
}
