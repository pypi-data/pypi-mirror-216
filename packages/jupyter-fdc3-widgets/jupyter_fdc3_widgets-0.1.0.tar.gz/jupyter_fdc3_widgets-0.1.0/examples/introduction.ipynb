{
 "cells": [
  {
   "cell_type": "markdown",
   "metadata": {},
   "source": [
    "# Introduction"
   ]
  },
  {
   "cell_type": "code",
   "execution_count": 7,
   "metadata": {
    "tags": []
   },
   "outputs": [],
   "source": [
    "import jupyter_fdc3_widgets"
   ]
  },
  {
   "cell_type": "code",
   "execution_count": 3,
   "metadata": {
    "tags": []
   },
   "outputs": [
    {
     "ename": "NameError",
     "evalue": "name 'jupyter_finos_widgets' is not defined",
     "output_type": "error",
     "traceback": [
      "\u001b[0;31m---------------------------------------------------------------------------\u001b[0m",
      "\u001b[0;31mNameError\u001b[0m                                 Traceback (most recent call last)",
      "Cell \u001b[0;32mIn[3], line 1\u001b[0m\n\u001b[0;32m----> 1\u001b[0m fdc3_version \u001b[38;5;241m=\u001b[39m \u001b[43mjupyter_finos_widgets\u001b[49m\u001b[38;5;241m.\u001b[39mFDC3Version()\n\u001b[1;32m      2\u001b[0m connection_status \u001b[38;5;241m=\u001b[39m jupyter_finos_widgets\u001b[38;5;241m.\u001b[39mFDC3ConnectionStatus()\n\u001b[1;32m      3\u001b[0m channel_join \u001b[38;5;241m=\u001b[39m jupyter_finos_widgets\u001b[38;5;241m.\u001b[39mFDC3ChannelJoin()\n",
      "\u001b[0;31mNameError\u001b[0m: name 'jupyter_finos_widgets' is not defined"
     ]
    }
   ],
   "source": [
    "fdc3_version = jupyter_fdc3_widgets.FDC3Version()\n",
    "connection_status = jupyter_fdc3_widgets.FDC3ConnectionStatus()\n",
    "channel_join = jupyter_fdc3_widgets.FDC3ChannelJoin()\n",
    "ticker_input = jupyter_fdc3_widgets.FDC3TickerInput()\n",
    "context_diplay = jupyter_fdc3_widgets.FDC3ContextDisplay()\n",
    "raise_intent = jupyter_fdc3_widgets.FDC3RaiseIntent()"
   ]
  },
  {
   "cell_type": "code",
   "execution_count": 3,
   "metadata": {
    "tags": []
   },
   "outputs": [
    {
     "data": {
      "application/vnd.jupyter.widget-view+json": {
       "model_id": "eeb1a4bc1d58416d927b69e4f3265a12",
       "version_major": 2,
       "version_minor": 0
      },
      "text/plain": [
       "FDC3Version()"
      ]
     },
     "execution_count": 3,
     "metadata": {},
     "output_type": "execute_result"
    }
   ],
   "source": [
    "fdc3_version"
   ]
  },
  {
   "cell_type": "code",
   "execution_count": 4,
   "metadata": {
    "tags": []
   },
   "outputs": [
    {
     "data": {
      "application/vnd.jupyter.widget-view+json": {
       "model_id": "9b756be3db894a6b956bfb9e4db744c8",
       "version_major": 2,
       "version_minor": 0
      },
      "text/plain": [
       "FDC3ConnectionStatus()"
      ]
     },
     "execution_count": 4,
     "metadata": {},
     "output_type": "execute_result"
    }
   ],
   "source": [
    "connection_status"
   ]
  },
  {
   "cell_type": "code",
   "execution_count": 5,
   "metadata": {
    "tags": []
   },
   "outputs": [
    {
     "data": {
      "application/vnd.jupyter.widget-view+json": {
       "model_id": "c381c25372cb4845a6b53690cec2968c",
       "version_major": 2,
       "version_minor": 0
      },
      "text/plain": [
       "FDC3ChannelJoin()"
      ]
     },
     "execution_count": 5,
     "metadata": {},
     "output_type": "execute_result"
    }
   ],
   "source": [
    "channel_join"
   ]
  },
  {
   "cell_type": "code",
   "execution_count": 6,
   "metadata": {
    "tags": []
   },
   "outputs": [
    {
     "data": {
      "application/vnd.jupyter.widget-view+json": {
       "model_id": "1663473ee4e04930af13b305ad0dcc8b",
       "version_major": 2,
       "version_minor": 0
      },
      "text/plain": [
       "FDC3TickerInput()"
      ]
     },
     "execution_count": 6,
     "metadata": {},
     "output_type": "execute_result"
    }
   ],
   "source": [
    "ticker_input"
   ]
  },
  {
   "cell_type": "code",
   "execution_count": 7,
   "metadata": {
    "tags": []
   },
   "outputs": [
    {
     "data": {
      "application/vnd.jupyter.widget-view+json": {
       "model_id": "abbaebd572b54d52b6f5b2d6bb262171",
       "version_major": 2,
       "version_minor": 0
      },
      "text/plain": [
       "FDC3ContextDisplay()"
      ]
     },
     "execution_count": 7,
     "metadata": {},
     "output_type": "execute_result"
    }
   ],
   "source": [
    "context_diplay"
   ]
  },
  {
   "cell_type": "code",
   "execution_count": 8,
   "metadata": {
    "tags": []
   },
   "outputs": [
    {
     "data": {
      "application/vnd.jupyter.widget-view+json": {
       "model_id": "9a63232c0cc848ae829d284ff581439e",
       "version_major": 2,
       "version_minor": 0
      },
      "text/plain": [
       "FDC3RaiseIntent()"
      ]
     },
     "execution_count": 8,
     "metadata": {},
     "output_type": "execute_result"
    }
   ],
   "source": [
    "raise_intent"
   ]
  },
  {
   "cell_type": "code",
   "execution_count": null,
   "metadata": {},
   "outputs": [],
   "source": []
  }
 ],
 "metadata": {
  "kernelspec": {
   "display_name": "Python 3 (ipykernel)",
   "language": "python",
   "name": "python3"
  },
  "language_info": {
   "codemirror_mode": {
    "name": "ipython",
    "version": 3
   },
   "file_extension": ".py",
   "mimetype": "text/x-python",
   "name": "python",
   "nbconvert_exporter": "python",
   "pygments_lexer": "ipython3",
   "version": "3.11.3"
  }
 },
 "nbformat": 4,
 "nbformat_minor": 4
}
