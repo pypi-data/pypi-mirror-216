{
 "cells": [
  {
   "cell_type": "code",
   "execution_count": 28,
   "id": "57e7f19f-8932-4e0c-a81b-fd90398bbd47",
   "metadata": {
    "execution": {
     "iopub.execute_input": "2023-06-30T09:49:17.064299Z",
     "iopub.status.busy": "2023-06-30T09:49:17.063346Z",
     "iopub.status.idle": "2023-06-30T09:49:17.190090Z",
     "shell.execute_reply": "2023-06-30T09:49:17.189138Z",
     "shell.execute_reply.started": "2023-06-30T09:49:17.064247Z"
    },
    "tags": []
   },
   "outputs": [
    {
     "name": "stdout",
     "output_type": "stream",
     "text": [
      "The autoreload extension is already loaded. To reload it, use:\n",
      "  %reload_ext autoreload\n"
     ]
    }
   ],
   "source": [
    "%load_ext autoreload\n",
    "%autoreload 2"
   ]
  },
  {
   "cell_type": "code",
   "execution_count": 29,
   "id": "f62b5722-27f6-43e8-95c3-83d2e9777735",
   "metadata": {
    "execution": {
     "iopub.execute_input": "2023-06-30T09:49:17.757422Z",
     "iopub.status.busy": "2023-06-30T09:49:17.756694Z",
     "iopub.status.idle": "2023-06-30T09:49:17.774696Z",
     "shell.execute_reply": "2023-06-30T09:49:17.773741Z",
     "shell.execute_reply.started": "2023-06-30T09:49:17.757388Z"
    },
    "tags": []
   },
   "outputs": [],
   "source": [
    "#%pip install pandas zstandard"
   ]
  },
  {
   "cell_type": "code",
   "execution_count": 30,
   "id": "015ee7b4-744b-4be0-b5ab-048731598676",
   "metadata": {
    "execution": {
     "iopub.execute_input": "2023-06-30T09:49:18.164062Z",
     "iopub.status.busy": "2023-06-30T09:49:18.163175Z",
     "iopub.status.idle": "2023-06-30T09:49:18.181368Z",
     "shell.execute_reply": "2023-06-30T09:49:18.180434Z",
     "shell.execute_reply.started": "2023-06-30T09:49:18.164028Z"
    },
    "tags": []
   },
   "outputs": [],
   "source": [
    "import pandas as pd"
   ]
  },
  {
   "cell_type": "code",
   "execution_count": null,
   "id": "6bf014c1-b378-49a1-8605-ae3a54fd9267",
   "metadata": {
    "execution": {
     "iopub.execute_input": "2023-06-30T09:49:50.207064Z",
     "iopub.status.busy": "2023-06-30T09:49:50.206689Z"
    },
    "tags": []
   },
   "outputs": [],
   "source": [
    "assoc = pd.read_table('~/pelvic_pain/data/from_cluster/phenotype.NRS_Worst_period_pain_during_last_period.glm.linear.zst').drop(columns=['ID'])"
   ]
  },
  {
   "cell_type": "code",
   "execution_count": 35,
   "id": "12ab90c5-65be-4fb9-b0f5-7a1970edd050",
   "metadata": {
    "execution": {
     "iopub.execute_input": "2023-06-30T09:50:19.806856Z",
     "iopub.status.busy": "2023-06-30T09:50:19.806373Z",
     "iopub.status.idle": "2023-06-30T09:50:20.261428Z",
     "shell.execute_reply": "2023-06-30T09:50:20.260699Z",
     "shell.execute_reply.started": "2023-06-30T09:50:19.806810Z"
    },
    "tags": []
   },
   "outputs": [],
   "source": [
    "assoc = assoc.rename(columns={\n",
    "    '#CHROM': 'CHROM'\n",
    "})"
   ]
  },
  {
   "cell_type": "code",
   "execution_count": 36,
   "id": "033b4b4c-9b64-4a0f-ba57-7c1a10811627",
   "metadata": {
    "execution": {
     "iopub.execute_input": "2023-06-30T09:50:20.263578Z",
     "iopub.status.busy": "2023-06-30T09:50:20.262949Z",
     "iopub.status.idle": "2023-06-30T09:50:24.120999Z",
     "shell.execute_reply": "2023-06-30T09:50:24.119886Z",
     "shell.execute_reply.started": "2023-06-30T09:50:20.263545Z"
    },
    "tags": []
   },
   "outputs": [
    {
     "data": {
      "text/html": [
       "<div>\n",
       "<style scoped>\n",
       "    .dataframe tbody tr th:only-of-type {\n",
       "        vertical-align: middle;\n",
       "    }\n",
       "\n",
       "    .dataframe tbody tr th {\n",
       "        vertical-align: top;\n",
       "    }\n",
       "\n",
       "    .dataframe thead th {\n",
       "        text-align: right;\n",
       "    }\n",
       "</style>\n",
       "<table border=\"1\" class=\"dataframe\">\n",
       "  <thead>\n",
       "    <tr style=\"text-align: right;\">\n",
       "      <th></th>\n",
       "      <th>CHROM</th>\n",
       "      <th>POS</th>\n",
       "      <th>REF</th>\n",
       "      <th>ALT</th>\n",
       "      <th>A1</th>\n",
       "      <th>TEST</th>\n",
       "      <th>OBS_CT</th>\n",
       "      <th>BETA</th>\n",
       "      <th>SE</th>\n",
       "      <th>L95</th>\n",
       "      <th>U95</th>\n",
       "      <th>T_STAT</th>\n",
       "      <th>LOG10_P</th>\n",
       "    </tr>\n",
       "  </thead>\n",
       "  <tbody>\n",
       "    <tr>\n",
       "      <th>5144362</th>\n",
       "      <td>15</td>\n",
       "      <td>22609561</td>\n",
       "      <td>G</td>\n",
       "      <td>A</td>\n",
       "      <td>A</td>\n",
       "      <td>ADD</td>\n",
       "      <td>626</td>\n",
       "      <td>1.25594</td>\n",
       "      <td>0.208805</td>\n",
       "      <td>0.846685</td>\n",
       "      <td>1.66519</td>\n",
       "      <td>6.01486</td>\n",
       "      <td>8.50923</td>\n",
       "    </tr>\n",
       "    <tr>\n",
       "      <th>5144366</th>\n",
       "      <td>15</td>\n",
       "      <td>22613826</td>\n",
       "      <td>T</td>\n",
       "      <td>C</td>\n",
       "      <td>C</td>\n",
       "      <td>ADD</td>\n",
       "      <td>626</td>\n",
       "      <td>1.25594</td>\n",
       "      <td>0.208805</td>\n",
       "      <td>0.846685</td>\n",
       "      <td>1.66519</td>\n",
       "      <td>6.01486</td>\n",
       "      <td>8.50923</td>\n",
       "    </tr>\n",
       "    <tr>\n",
       "      <th>5144365</th>\n",
       "      <td>15</td>\n",
       "      <td>22611676</td>\n",
       "      <td>C</td>\n",
       "      <td>G</td>\n",
       "      <td>G</td>\n",
       "      <td>ADD</td>\n",
       "      <td>626</td>\n",
       "      <td>1.24663</td>\n",
       "      <td>0.211012</td>\n",
       "      <td>0.833058</td>\n",
       "      <td>1.66021</td>\n",
       "      <td>5.90787</td>\n",
       "      <td>8.24043</td>\n",
       "    </tr>\n",
       "    <tr>\n",
       "      <th>3590531</th>\n",
       "      <td>9</td>\n",
       "      <td>64851643</td>\n",
       "      <td>T</td>\n",
       "      <td>C</td>\n",
       "      <td>C</td>\n",
       "      <td>ADD</td>\n",
       "      <td>626</td>\n",
       "      <td>1.30305</td>\n",
       "      <td>0.231133</td>\n",
       "      <td>0.850041</td>\n",
       "      <td>1.75606</td>\n",
       "      <td>5.63768</td>\n",
       "      <td>7.57978</td>\n",
       "    </tr>\n",
       "    <tr>\n",
       "      <th>3590542</th>\n",
       "      <td>9</td>\n",
       "      <td>65067398</td>\n",
       "      <td>T</td>\n",
       "      <td>G</td>\n",
       "      <td>G</td>\n",
       "      <td>ADD</td>\n",
       "      <td>626</td>\n",
       "      <td>1.16528</td>\n",
       "      <td>0.210540</td>\n",
       "      <td>0.752631</td>\n",
       "      <td>1.57793</td>\n",
       "      <td>5.53474</td>\n",
       "      <td>7.33495</td>\n",
       "    </tr>\n",
       "  </tbody>\n",
       "</table>\n",
       "</div>"
      ],
      "text/plain": [
       "        CHROM       POS REF ALT A1 TEST  OBS_CT     BETA        SE       L95  \\\n",
       "5144362    15  22609561   G   A  A  ADD     626  1.25594  0.208805  0.846685   \n",
       "5144366    15  22613826   T   C  C  ADD     626  1.25594  0.208805  0.846685   \n",
       "5144365    15  22611676   C   G  G  ADD     626  1.24663  0.211012  0.833058   \n",
       "3590531     9  64851643   T   C  C  ADD     626  1.30305  0.231133  0.850041   \n",
       "3590542     9  65067398   T   G  G  ADD     626  1.16528  0.210540  0.752631   \n",
       "\n",
       "             U95   T_STAT  LOG10_P  \n",
       "5144362  1.66519  6.01486  8.50923  \n",
       "5144366  1.66519  6.01486  8.50923  \n",
       "5144365  1.66021  5.90787  8.24043  \n",
       "3590531  1.75606  5.63768  7.57978  \n",
       "3590542  1.57793  5.53474  7.33495  "
      ]
     },
     "execution_count": 36,
     "metadata": {},
     "output_type": "execute_result"
    }
   ],
   "source": [
    "assoc.sort_values('LOG10_P', ascending=False).head()"
   ]
  },
  {
   "cell_type": "code",
   "execution_count": 40,
   "id": "c0888990-7f2e-4130-8558-6833b48ffca9",
   "metadata": {
    "execution": {
     "iopub.execute_input": "2023-06-30T09:51:38.906978Z",
     "iopub.status.busy": "2023-06-30T09:51:38.906302Z",
     "iopub.status.idle": "2023-06-30T09:51:39.051066Z",
     "shell.execute_reply": "2023-06-30T09:51:39.050137Z",
     "shell.execute_reply.started": "2023-06-30T09:51:38.906946Z"
    },
    "tags": []
   },
   "outputs": [],
   "source": [
    "from jupyter_locuszoom import LocusZoom"
   ]
  },
  {
   "cell_type": "code",
   "execution_count": 41,
   "id": "2ab6371b-20f0-4a2f-8140-4b9cf37cbe88",
   "metadata": {
    "execution": {
     "iopub.execute_input": "2023-06-30T09:51:39.279165Z",
     "iopub.status.busy": "2023-06-30T09:51:39.278226Z",
     "iopub.status.idle": "2023-06-30T09:51:39.308916Z",
     "shell.execute_reply": "2023-06-30T09:51:39.307624Z",
     "shell.execute_reply.started": "2023-06-30T09:51:39.279116Z"
    },
    "tags": []
   },
   "outputs": [
    {
     "data": {
      "text/plain": [
       "'CHROM,POS,REF,ALT,A1,TEST,OBS_CT,BETA,SE,L95,U95,T_STAT,LOG10_P'"
      ]
     },
     "execution_count": 41,
     "metadata": {},
     "output_type": "execute_result"
    }
   ],
   "source": [
    "','.join(assoc.columns)"
   ]
  },
  {
   "cell_type": "code",
   "execution_count": 44,
   "id": "f7d7257b-1be8-4f01-bd05-ff905f2ba6d5",
   "metadata": {
    "execution": {
     "iopub.execute_input": "2023-06-30T10:05:18.401198Z",
     "iopub.status.busy": "2023-06-30T10:05:18.400867Z",
     "iopub.status.idle": "2023-06-30T10:05:28.795076Z",
     "shell.execute_reply": "2023-06-30T10:05:28.793965Z",
     "shell.execute_reply.started": "2023-06-30T10:05:18.401174Z"
    },
    "tags": []
   },
   "outputs": [
    {
     "data": {
      "application/vnd.jupyter.widget-view+json": {
       "model_id": "9e4422318481465382299cdc89f8d35b",
       "version_major": 2,
       "version_minor": 0
      },
      "text/plain": [
       "LocusZoom(position={'chr': '1', 'start': 13732560, 'end': 14232560})"
      ]
     },
     "execution_count": 44,
     "metadata": {},
     "output_type": "execute_result"
    }
   ],
   "source": [
    "LocusZoom(\n",
    "    assoc,\n",
    "    chrom='1',\n",
    "    build='GRCh38'\n",
    ")"
   ]
  },
  {
   "cell_type": "code",
   "execution_count": 12,
   "id": "fc5cdbd4-2125-41fd-80e9-95b8e60d19bf",
   "metadata": {
    "execution": {
     "iopub.execute_input": "2023-06-29T14:09:21.041215Z",
     "iopub.status.busy": "2023-06-29T14:09:21.040147Z",
     "iopub.status.idle": "2023-06-29T14:09:31.841598Z",
     "shell.execute_reply": "2023-06-29T14:09:31.840406Z",
     "shell.execute_reply.started": "2023-06-29T14:09:21.041172Z"
    },
    "tags": []
   },
   "outputs": [
    {
     "name": "stdout",
     "output_type": "stream",
     "text": [
      "using chrom 9\n",
      "{'chr': '9', 'start': 64601643, 'end': 65101643}\n"
     ]
    },
    {
     "data": {
      "application/vnd.jupyter.widget-view+json": {
       "model_id": "09647ad8fe76496bb7722708e5cf8450",
       "version_major": 2,
       "version_minor": 0
      },
      "text/plain": [
       "LocusZoom(position={'chr': '9', 'start': 64601643, 'end': 65101643})"
      ]
     },
     "execution_count": 12,
     "metadata": {},
     "output_type": "execute_result"
    }
   ],
   "source": [
    "LocusZoom(\n",
    "    assoc,\n",
    "    chrom='9',\n",
    "    build='GRCh38'\n",
    ")"
   ]
  },
  {
   "cell_type": "raw",
   "id": "d9c6d810-5b59-4826-9d5d-e031c3b46543",
   "metadata": {
    "execution": {
     "iopub.execute_input": "2023-06-29T13:51:12.186493Z",
     "iopub.status.busy": "2023-06-29T13:51:12.186002Z",
     "iopub.status.idle": "2023-06-29T13:51:21.837646Z",
     "shell.execute_reply": "2023-06-29T13:51:21.836597Z",
     "shell.execute_reply.started": "2023-06-29T13:51:12.186460Z"
    },
    "tags": []
   },
   "source": [
    "# TODO: rename to ilocuszoom\n",
    "from jupyter_locuszoom import LocusZoom\n",
    "\n",
    "l = LocusZoom(\n",
    "    associations=assoc,\n",
    "    chrom='15',\n",
    "    build='GRCh38'\n",
    ")\n",
    "l"
   ]
  },
  {
   "cell_type": "code",
   "execution_count": 124,
   "id": "d75bbf18-2504-4e5b-99a3-31d1fae638a0",
   "metadata": {
    "execution": {
     "iopub.execute_input": "2023-06-29T13:08:57.535666Z",
     "iopub.status.busy": "2023-06-29T13:08:57.534941Z",
     "iopub.status.idle": "2023-06-29T13:08:58.236170Z",
     "shell.execute_reply": "2023-06-29T13:08:58.235172Z",
     "shell.execute_reply.started": "2023-06-29T13:08:57.535622Z"
    },
    "tags": []
   },
   "outputs": [],
   "source": [
    "l.start += 1000"
   ]
  },
  {
   "cell_type": "code",
   "execution_count": null,
   "id": "468df47b-1420-4f04-ba93-abc2ed9e35a3",
   "metadata": {},
   "outputs": [],
   "source": []
  }
 ],
 "metadata": {
  "kernelspec": {
   "display_name": "Python 3 (ipykernel)",
   "language": "python",
   "name": "python3"
  },
  "language_info": {
   "codemirror_mode": {
    "name": "ipython",
    "version": 3
   },
   "file_extension": ".py",
   "mimetype": "text/x-python",
   "name": "python",
   "nbconvert_exporter": "python",
   "pygments_lexer": "ipython3",
   "version": "3.10.10"
  }
 },
 "nbformat": 4,
 "nbformat_minor": 5
}
