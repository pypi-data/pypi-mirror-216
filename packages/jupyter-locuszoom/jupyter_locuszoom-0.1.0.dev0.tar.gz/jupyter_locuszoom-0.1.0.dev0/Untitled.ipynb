{
 "cells": [
  {
   "cell_type": "code",
   "execution_count": 1,
   "id": "57e7f19f-8932-4e0c-a81b-fd90398bbd47",
   "metadata": {
    "execution": {
     "iopub.execute_input": "2023-06-29T14:07:19.505958Z",
     "iopub.status.busy": "2023-06-29T14:07:19.505630Z",
     "iopub.status.idle": "2023-06-29T14:07:19.541770Z",
     "shell.execute_reply": "2023-06-29T14:07:19.540820Z",
     "shell.execute_reply.started": "2023-06-29T14:07:19.505926Z"
    },
    "tags": []
   },
   "outputs": [],
   "source": [
    "%load_ext autoreload\n",
    "%autoreload 2"
   ]
  },
  {
   "cell_type": "code",
   "execution_count": 2,
   "id": "f62b5722-27f6-43e8-95c3-83d2e9777735",
   "metadata": {
    "execution": {
     "iopub.execute_input": "2023-06-29T14:07:19.545038Z",
     "iopub.status.busy": "2023-06-29T14:07:19.544253Z",
     "iopub.status.idle": "2023-06-29T14:07:19.562793Z",
     "shell.execute_reply": "2023-06-29T14:07:19.561846Z",
     "shell.execute_reply.started": "2023-06-29T14:07:19.545002Z"
    },
    "tags": []
   },
   "outputs": [],
   "source": [
    "#%pip install pandas zstandard"
   ]
  },
  {
   "cell_type": "code",
   "execution_count": 3,
   "id": "015ee7b4-744b-4be0-b5ab-048731598676",
   "metadata": {
    "execution": {
     "iopub.execute_input": "2023-06-29T14:07:19.565411Z",
     "iopub.status.busy": "2023-06-29T14:07:19.564012Z",
     "iopub.status.idle": "2023-06-29T14:07:19.980948Z",
     "shell.execute_reply": "2023-06-29T14:07:19.979954Z",
     "shell.execute_reply.started": "2023-06-29T14:07:19.564970Z"
    },
    "tags": []
   },
   "outputs": [],
   "source": [
    "import pandas as pd"
   ]
  },
  {
   "cell_type": "code",
   "execution_count": 17,
   "id": "6bf014c1-b378-49a1-8605-ae3a54fd9267",
   "metadata": {
    "execution": {
     "iopub.execute_input": "2023-06-29T14:26:20.952367Z",
     "iopub.status.busy": "2023-06-29T14:26:20.951770Z",
     "iopub.status.idle": "2023-06-29T14:26:39.471377Z",
     "shell.execute_reply": "2023-06-29T14:26:39.470455Z",
     "shell.execute_reply.started": "2023-06-29T14:26:20.952331Z"
    },
    "tags": []
   },
   "outputs": [
    {
     "name": "stderr",
     "output_type": "stream",
     "text": [
      "/tmp/ipykernel_309284/3026281591.py:1: DtypeWarning: Columns (0) have mixed types. Specify dtype option on import or set low_memory=False.\n",
      "  assoc = pd.read_table('data/phenotype.NRS_Worst_period_pain_during_last_period.glm.linear.zst').rename({\n"
     ]
    }
   ],
   "source": [
    "assoc = pd.read_table('data/phenotype.NRS_Worst_period_pain_during_last_period.glm.linear.zst').drop(columns=['ID'])"
   ]
  },
  {
   "cell_type": "code",
   "execution_count": 22,
   "id": "12ab90c5-65be-4fb9-b0f5-7a1970edd050",
   "metadata": {
    "execution": {
     "iopub.execute_input": "2023-06-29T14:26:59.490065Z",
     "iopub.status.busy": "2023-06-29T14:26:59.489273Z",
     "iopub.status.idle": "2023-06-29T14:26:59.921950Z",
     "shell.execute_reply": "2023-06-29T14:26:59.921022Z",
     "shell.execute_reply.started": "2023-06-29T14:26:59.490016Z"
    },
    "tags": []
   },
   "outputs": [],
   "source": [
    "assoc = assoc.rename(columns={\n",
    "    '#CHROM': 'CHROM'\n",
    "})"
   ]
  },
  {
   "cell_type": "code",
   "execution_count": 6,
   "id": "033b4b4c-9b64-4a0f-ba57-7c1a10811627",
   "metadata": {
    "execution": {
     "iopub.execute_input": "2023-06-29T14:07:32.459260Z",
     "iopub.status.busy": "2023-06-29T14:07:32.458234Z",
     "iopub.status.idle": "2023-06-29T14:07:36.847332Z",
     "shell.execute_reply": "2023-06-29T14:07:36.846379Z",
     "shell.execute_reply.started": "2023-06-29T14:07:32.459212Z"
    },
    "tags": []
   },
   "outputs": [
    {
     "data": {
      "text/html": [
       "<div>\n",
       "<style scoped>\n",
       "    .dataframe tbody tr th:only-of-type {\n",
       "        vertical-align: middle;\n",
       "    }\n",
       "\n",
       "    .dataframe tbody tr th {\n",
       "        vertical-align: top;\n",
       "    }\n",
       "\n",
       "    .dataframe thead th {\n",
       "        text-align: right;\n",
       "    }\n",
       "</style>\n",
       "<table border=\"1\" class=\"dataframe\">\n",
       "  <thead>\n",
       "    <tr style=\"text-align: right;\">\n",
       "      <th></th>\n",
       "      <th>#CHROM</th>\n",
       "      <th>POS</th>\n",
       "      <th>ID</th>\n",
       "      <th>REF</th>\n",
       "      <th>ALT</th>\n",
       "      <th>A1</th>\n",
       "      <th>TEST</th>\n",
       "      <th>OBS_CT</th>\n",
       "      <th>BETA</th>\n",
       "      <th>SE</th>\n",
       "      <th>L95</th>\n",
       "      <th>U95</th>\n",
       "      <th>T_STAT</th>\n",
       "      <th>LOG10_P</th>\n",
       "    </tr>\n",
       "  </thead>\n",
       "  <tbody>\n",
       "    <tr>\n",
       "      <th>5144362</th>\n",
       "      <td>15</td>\n",
       "      <td>22609561</td>\n",
       "      <td>chr15:22609561:G:A</td>\n",
       "      <td>G</td>\n",
       "      <td>A</td>\n",
       "      <td>A</td>\n",
       "      <td>ADD</td>\n",
       "      <td>626</td>\n",
       "      <td>1.25594</td>\n",
       "      <td>0.208805</td>\n",
       "      <td>0.846685</td>\n",
       "      <td>1.66519</td>\n",
       "      <td>6.01486</td>\n",
       "      <td>8.50923</td>\n",
       "    </tr>\n",
       "    <tr>\n",
       "      <th>5144366</th>\n",
       "      <td>15</td>\n",
       "      <td>22613826</td>\n",
       "      <td>chr15:22613826:T:C</td>\n",
       "      <td>T</td>\n",
       "      <td>C</td>\n",
       "      <td>C</td>\n",
       "      <td>ADD</td>\n",
       "      <td>626</td>\n",
       "      <td>1.25594</td>\n",
       "      <td>0.208805</td>\n",
       "      <td>0.846685</td>\n",
       "      <td>1.66519</td>\n",
       "      <td>6.01486</td>\n",
       "      <td>8.50923</td>\n",
       "    </tr>\n",
       "    <tr>\n",
       "      <th>5144365</th>\n",
       "      <td>15</td>\n",
       "      <td>22611676</td>\n",
       "      <td>chr15:22611676:C:G</td>\n",
       "      <td>C</td>\n",
       "      <td>G</td>\n",
       "      <td>G</td>\n",
       "      <td>ADD</td>\n",
       "      <td>626</td>\n",
       "      <td>1.24663</td>\n",
       "      <td>0.211012</td>\n",
       "      <td>0.833058</td>\n",
       "      <td>1.66021</td>\n",
       "      <td>5.90787</td>\n",
       "      <td>8.24043</td>\n",
       "    </tr>\n",
       "    <tr>\n",
       "      <th>3590531</th>\n",
       "      <td>9</td>\n",
       "      <td>64851643</td>\n",
       "      <td>chr9:64851643:T:C</td>\n",
       "      <td>T</td>\n",
       "      <td>C</td>\n",
       "      <td>C</td>\n",
       "      <td>ADD</td>\n",
       "      <td>626</td>\n",
       "      <td>1.30305</td>\n",
       "      <td>0.231133</td>\n",
       "      <td>0.850041</td>\n",
       "      <td>1.75606</td>\n",
       "      <td>5.63768</td>\n",
       "      <td>7.57978</td>\n",
       "    </tr>\n",
       "    <tr>\n",
       "      <th>3590542</th>\n",
       "      <td>9</td>\n",
       "      <td>65067398</td>\n",
       "      <td>chr9:65067398:T:G</td>\n",
       "      <td>T</td>\n",
       "      <td>G</td>\n",
       "      <td>G</td>\n",
       "      <td>ADD</td>\n",
       "      <td>626</td>\n",
       "      <td>1.16528</td>\n",
       "      <td>0.210540</td>\n",
       "      <td>0.752631</td>\n",
       "      <td>1.57793</td>\n",
       "      <td>5.53474</td>\n",
       "      <td>7.33495</td>\n",
       "    </tr>\n",
       "  </tbody>\n",
       "</table>\n",
       "</div>"
      ],
      "text/plain": [
       "        #CHROM       POS                  ID REF ALT A1 TEST  OBS_CT     BETA  \\\n",
       "5144362     15  22609561  chr15:22609561:G:A   G   A  A  ADD     626  1.25594   \n",
       "5144366     15  22613826  chr15:22613826:T:C   T   C  C  ADD     626  1.25594   \n",
       "5144365     15  22611676  chr15:22611676:C:G   C   G  G  ADD     626  1.24663   \n",
       "3590531      9  64851643   chr9:64851643:T:C   T   C  C  ADD     626  1.30305   \n",
       "3590542      9  65067398   chr9:65067398:T:G   T   G  G  ADD     626  1.16528   \n",
       "\n",
       "               SE       L95      U95   T_STAT  LOG10_P  \n",
       "5144362  0.208805  0.846685  1.66519  6.01486  8.50923  \n",
       "5144366  0.208805  0.846685  1.66519  6.01486  8.50923  \n",
       "5144365  0.211012  0.833058  1.66021  5.90787  8.24043  \n",
       "3590531  0.231133  0.850041  1.75606  5.63768  7.57978  \n",
       "3590542  0.210540  0.752631  1.57793  5.53474  7.33495  "
      ]
     },
     "execution_count": 6,
     "metadata": {},
     "output_type": "execute_result"
    }
   ],
   "source": [
    "assoc.sort_values('LOG10_P', ascending=False).head()"
   ]
  },
  {
   "cell_type": "code",
   "execution_count": 25,
   "id": "c0888990-7f2e-4130-8558-6833b48ffca9",
   "metadata": {
    "execution": {
     "iopub.execute_input": "2023-06-29T14:27:11.263936Z",
     "iopub.status.busy": "2023-06-29T14:27:11.263442Z",
     "iopub.status.idle": "2023-06-29T14:27:11.281926Z",
     "shell.execute_reply": "2023-06-29T14:27:11.281024Z",
     "shell.execute_reply.started": "2023-06-29T14:27:11.263905Z"
    },
    "tags": []
   },
   "outputs": [],
   "source": [
    "from jupyter_locuszoom import LocusZoom"
   ]
  },
  {
   "cell_type": "code",
   "execution_count": 26,
   "id": "2ab6371b-20f0-4a2f-8140-4b9cf37cbe88",
   "metadata": {
    "execution": {
     "iopub.execute_input": "2023-06-29T14:27:11.449926Z",
     "iopub.status.busy": "2023-06-29T14:27:11.449299Z",
     "iopub.status.idle": "2023-06-29T14:27:11.470293Z",
     "shell.execute_reply": "2023-06-29T14:27:11.469251Z",
     "shell.execute_reply.started": "2023-06-29T14:27:11.449891Z"
    },
    "tags": []
   },
   "outputs": [
    {
     "data": {
      "text/plain": [
       "'CHROM,POS,REF,ALT,A1,TEST,OBS_CT,BETA,SE,L95,U95,T_STAT,LOG10_P'"
      ]
     },
     "execution_count": 26,
     "metadata": {},
     "output_type": "execute_result"
    }
   ],
   "source": [
    "','.join(assoc.columns)"
   ]
  },
  {
   "cell_type": "code",
   "execution_count": null,
   "id": "f7d7257b-1be8-4f01-bd05-ff905f2ba6d5",
   "metadata": {
    "execution": {
     "iopub.execute_input": "2023-06-29T14:27:11.603492Z",
     "iopub.status.busy": "2023-06-29T14:27:11.602674Z"
    },
    "tags": []
   },
   "outputs": [],
   "source": [
    "LocusZoom(\n",
    "    assoc,\n",
    "    chrom='1',\n",
    "    build='GRCh38'\n",
    ")"
   ]
  },
  {
   "cell_type": "code",
   "execution_count": 12,
   "id": "fc5cdbd4-2125-41fd-80e9-95b8e60d19bf",
   "metadata": {
    "execution": {
     "iopub.execute_input": "2023-06-29T14:09:21.041215Z",
     "iopub.status.busy": "2023-06-29T14:09:21.040147Z",
     "iopub.status.idle": "2023-06-29T14:09:31.841598Z",
     "shell.execute_reply": "2023-06-29T14:09:31.840406Z",
     "shell.execute_reply.started": "2023-06-29T14:09:21.041172Z"
    },
    "tags": []
   },
   "outputs": [
    {
     "name": "stdout",
     "output_type": "stream",
     "text": [
      "using chrom 9\n",
      "{'chr': '9', 'start': 64601643, 'end': 65101643}\n"
     ]
    },
    {
     "data": {
      "application/vnd.jupyter.widget-view+json": {
       "model_id": "09647ad8fe76496bb7722708e5cf8450",
       "version_major": 2,
       "version_minor": 0
      },
      "text/plain": [
       "LocusZoom(position={'chr': '9', 'start': 64601643, 'end': 65101643})"
      ]
     },
     "execution_count": 12,
     "metadata": {},
     "output_type": "execute_result"
    }
   ],
   "source": [
    "LocusZoom(\n",
    "    assoc,\n",
    "    chrom='9',\n",
    "    build='GRCh38'\n",
    ")"
   ]
  },
  {
   "cell_type": "raw",
   "id": "d9c6d810-5b59-4826-9d5d-e031c3b46543",
   "metadata": {
    "execution": {
     "iopub.execute_input": "2023-06-29T13:51:12.186493Z",
     "iopub.status.busy": "2023-06-29T13:51:12.186002Z",
     "iopub.status.idle": "2023-06-29T13:51:21.837646Z",
     "shell.execute_reply": "2023-06-29T13:51:21.836597Z",
     "shell.execute_reply.started": "2023-06-29T13:51:12.186460Z"
    },
    "tags": []
   },
   "source": [
    "# TODO: rename to ilocuszoom\n",
    "from jupyter_locuszoom import LocusZoom\n",
    "\n",
    "l = LocusZoom(\n",
    "    associations=assoc,\n",
    "    chrom='15',\n",
    "    build='GRCh38'\n",
    ")\n",
    "l"
   ]
  },
  {
   "cell_type": "code",
   "execution_count": 124,
   "id": "d75bbf18-2504-4e5b-99a3-31d1fae638a0",
   "metadata": {
    "execution": {
     "iopub.execute_input": "2023-06-29T13:08:57.535666Z",
     "iopub.status.busy": "2023-06-29T13:08:57.534941Z",
     "iopub.status.idle": "2023-06-29T13:08:58.236170Z",
     "shell.execute_reply": "2023-06-29T13:08:58.235172Z",
     "shell.execute_reply.started": "2023-06-29T13:08:57.535622Z"
    },
    "tags": []
   },
   "outputs": [],
   "source": [
    "l.start += 1000"
   ]
  },
  {
   "cell_type": "code",
   "execution_count": null,
   "id": "468df47b-1420-4f04-ba93-abc2ed9e35a3",
   "metadata": {},
   "outputs": [],
   "source": []
  }
 ],
 "metadata": {
  "kernelspec": {
   "display_name": "Python 3 (ipykernel)",
   "language": "python",
   "name": "python3"
  },
  "language_info": {
   "codemirror_mode": {
    "name": "ipython",
    "version": 3
   },
   "file_extension": ".py",
   "mimetype": "text/x-python",
   "name": "python",
   "nbconvert_exporter": "python",
   "pygments_lexer": "ipython3",
   "version": "3.10.10"
  }
 },
 "nbformat": 4,
 "nbformat_minor": 5
}
