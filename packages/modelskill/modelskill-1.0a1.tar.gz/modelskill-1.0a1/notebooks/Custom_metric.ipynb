{
    "cells": [
        {
            "cell_type": "code",
            "execution_count": 1,
            "metadata": {},
            "outputs": [],
            "source": [
                "import numpy as np\n",
                "import modelskill as ms"
            ]
        },
        {
            "cell_type": "code",
            "execution_count": 2,
            "metadata": {},
            "outputs": [
                {
                    "data": {
                        "text/plain": [
                            "Dfsu2D\n",
                            "number of elements: 958\n",
                            "number of nodes: 570\n",
                            "projection: LONG/LAT\n",
                            "number of items: 15\n",
                            "time: 23 steps with dt=10800.0s\n",
                            "      2017-10-27 00:00:00 -- 2017-10-29 18:00:00"
                        ]
                    },
                    "execution_count": 2,
                    "metadata": {},
                    "output_type": "execute_result"
                }
            ],
            "source": [
                "fn = '../tests/testdata/SW/HKZN_local_2017_DutchCoast.dfsu'\n",
                "mr = ms.ModelResult(fn, name='HKZN_local', item=0)\n",
                "mr.data"
            ]
        },
        {
            "attachments": {},
            "cell_type": "markdown",
            "metadata": {},
            "source": [
                "Configuration of comparison, see [SW_DutchCoast.ipynb](SW_DutchCoast.ipynb) for more details."
            ]
        },
        {
            "cell_type": "code",
            "execution_count": 3,
            "metadata": {},
            "outputs": [
                {
                    "data": {
                        "text/plain": [
                            "<ComparerCollection>\n",
                            "Comparer: HKNA\n",
                            "Comparer: EPL\n",
                            "Comparer: c2"
                        ]
                    },
                    "execution_count": 3,
                    "metadata": {},
                    "output_type": "execute_result"
                }
            ],
            "source": [
                "o1 = ms.PointObservation('../tests/testdata/SW/HKNA_Hm0.dfs0', item=0, x=4.2420, y=52.6887, name=\"HKNA\")\n",
                "o2 = ms.PointObservation(\"../tests/testdata/SW/eur_Hm0.dfs0\", item=0, x=3.2760, y=51.9990, name=\"EPL\")\n",
                "o3 = ms.TrackObservation(\"../tests/testdata/SW/Alti_c2_Dutch.dfs0\", item=3, name=\"c2\")\n",
                "cc = ms.compare([o1, o2, o3], mr)\n",
                "cc"
            ]
        },
        {
            "attachments": {},
            "cell_type": "markdown",
            "metadata": {},
            "source": [
                "Standard set of metrics"
            ]
        },
        {
            "cell_type": "code",
            "execution_count": 4,
            "metadata": {},
            "outputs": [
                {
                    "data": {
                        "text/html": [
                            "<style type=\"text/css\">\n",
                            "#T_1eb29_row0_col1 {\n",
                            "  background-color: #a9c6fd;\n",
                            "  color: #000000;\n",
                            "}\n",
                            "#T_1eb29_row0_col2, #T_1eb29_row0_col3, #T_1eb29_row0_col4, #T_1eb29_row0_col6, #T_1eb29_row0_col7, #T_1eb29_row2_col5 {\n",
                            "  background-color: #fff7ec;\n",
                            "  color: #000000;\n",
                            "  text-decoration: underline;\n",
                            "  font-style: italic;\n",
                            "  font-weight: bold;\n",
                            "}\n",
                            "#T_1eb29_row0_col5, #T_1eb29_row1_col2, #T_1eb29_row2_col2, #T_1eb29_row2_col3, #T_1eb29_row2_col4, #T_1eb29_row2_col6, #T_1eb29_row2_col7 {\n",
                            "  background-color: #7f0000;\n",
                            "  color: #f1f1f1;\n",
                            "}\n",
                            "#T_1eb29_row1_col1 {\n",
                            "  background-color: #3b4cc0;\n",
                            "  color: #f1f1f1;\n",
                            "}\n",
                            "#T_1eb29_row1_col3 {\n",
                            "  background-color: #f4734e;\n",
                            "  color: #f1f1f1;\n",
                            "}\n",
                            "#T_1eb29_row1_col4 {\n",
                            "  background-color: #f26e4c;\n",
                            "  color: #f1f1f1;\n",
                            "}\n",
                            "#T_1eb29_row1_col5 {\n",
                            "  background-color: #e0442f;\n",
                            "  color: #f1f1f1;\n",
                            "}\n",
                            "#T_1eb29_row1_col6 {\n",
                            "  background-color: #fdd19b;\n",
                            "  color: #000000;\n",
                            "}\n",
                            "#T_1eb29_row1_col7 {\n",
                            "  background-color: #c1120c;\n",
                            "  color: #f1f1f1;\n",
                            "}\n",
                            "#T_1eb29_row2_col1 {\n",
                            "  background-color: #dcdddd;\n",
                            "  color: #000000;\n",
                            "  text-decoration: underline;\n",
                            "  font-style: italic;\n",
                            "  font-weight: bold;\n",
                            "}\n",
                            "</style>\n",
                            "<table id=\"T_1eb29\">\n",
                            "  <thead>\n",
                            "    <tr>\n",
                            "      <th class=\"blank level0\" >&nbsp;</th>\n",
                            "      <th id=\"T_1eb29_level0_col0\" class=\"col_heading level0 col0\" >n</th>\n",
                            "      <th id=\"T_1eb29_level0_col1\" class=\"col_heading level0 col1\" >bias</th>\n",
                            "      <th id=\"T_1eb29_level0_col2\" class=\"col_heading level0 col2\" >rmse</th>\n",
                            "      <th id=\"T_1eb29_level0_col3\" class=\"col_heading level0 col3\" >urmse</th>\n",
                            "      <th id=\"T_1eb29_level0_col4\" class=\"col_heading level0 col4\" >mae</th>\n",
                            "      <th id=\"T_1eb29_level0_col5\" class=\"col_heading level0 col5\" >cc</th>\n",
                            "      <th id=\"T_1eb29_level0_col6\" class=\"col_heading level0 col6\" >si</th>\n",
                            "      <th id=\"T_1eb29_level0_col7\" class=\"col_heading level0 col7\" >r2</th>\n",
                            "    </tr>\n",
                            "    <tr>\n",
                            "      <th class=\"index_name level0\" >observation</th>\n",
                            "      <th class=\"blank col0\" >&nbsp;</th>\n",
                            "      <th class=\"blank col1\" >&nbsp;</th>\n",
                            "      <th class=\"blank col2\" >&nbsp;</th>\n",
                            "      <th class=\"blank col3\" >&nbsp;</th>\n",
                            "      <th class=\"blank col4\" >&nbsp;</th>\n",
                            "      <th class=\"blank col5\" >&nbsp;</th>\n",
                            "      <th class=\"blank col6\" >&nbsp;</th>\n",
                            "      <th class=\"blank col7\" >&nbsp;</th>\n",
                            "    </tr>\n",
                            "  </thead>\n",
                            "  <tbody>\n",
                            "    <tr>\n",
                            "      <th id=\"T_1eb29_level0_row0\" class=\"row_heading level0 row0\" >EPL</th>\n",
                            "      <td id=\"T_1eb29_row0_col0\" class=\"data row0 col0\" >67</td>\n",
                            "      <td id=\"T_1eb29_row0_col1\" class=\"data row0 col1\" >-0.07</td>\n",
                            "      <td id=\"T_1eb29_row0_col2\" class=\"data row0 col2\" >0.22</td>\n",
                            "      <td id=\"T_1eb29_row0_col3\" class=\"data row0 col3\" >0.21</td>\n",
                            "      <td id=\"T_1eb29_row0_col4\" class=\"data row0 col4\" >0.19</td>\n",
                            "      <td id=\"T_1eb29_row0_col5\" class=\"data row0 col5\" >0.97</td>\n",
                            "      <td id=\"T_1eb29_row0_col6\" class=\"data row0 col6\" >0.08</td>\n",
                            "      <td id=\"T_1eb29_row0_col7\" class=\"data row0 col7\" >0.93</td>\n",
                            "    </tr>\n",
                            "    <tr>\n",
                            "      <th id=\"T_1eb29_level0_row1\" class=\"row_heading level0 row1\" >HKNA</th>\n",
                            "      <td id=\"T_1eb29_row1_col0\" class=\"data row1 col0\" >386</td>\n",
                            "      <td id=\"T_1eb29_row1_col1\" class=\"data row1 col1\" >-0.19</td>\n",
                            "      <td id=\"T_1eb29_row1_col2\" class=\"data row1 col2\" >0.35</td>\n",
                            "      <td id=\"T_1eb29_row1_col3\" class=\"data row1 col3\" >0.29</td>\n",
                            "      <td id=\"T_1eb29_row1_col4\" class=\"data row1 col4\" >0.25</td>\n",
                            "      <td id=\"T_1eb29_row1_col5\" class=\"data row1 col5\" >0.97</td>\n",
                            "      <td id=\"T_1eb29_row1_col6\" class=\"data row1 col6\" >0.09</td>\n",
                            "      <td id=\"T_1eb29_row1_col7\" class=\"data row1 col7\" >0.91</td>\n",
                            "    </tr>\n",
                            "    <tr>\n",
                            "      <th id=\"T_1eb29_level0_row2\" class=\"row_heading level0 row2\" >c2</th>\n",
                            "      <td id=\"T_1eb29_row2_col0\" class=\"data row2 col0\" >113</td>\n",
                            "      <td id=\"T_1eb29_row2_col1\" class=\"data row2 col1\" >-0.00</td>\n",
                            "      <td id=\"T_1eb29_row2_col2\" class=\"data row2 col2\" >0.35</td>\n",
                            "      <td id=\"T_1eb29_row2_col3\" class=\"data row2 col3\" >0.35</td>\n",
                            "      <td id=\"T_1eb29_row2_col4\" class=\"data row2 col4\" >0.29</td>\n",
                            "      <td id=\"T_1eb29_row2_col5\" class=\"data row2 col5\" >0.97</td>\n",
                            "      <td id=\"T_1eb29_row2_col6\" class=\"data row2 col6\" >0.13</td>\n",
                            "      <td id=\"T_1eb29_row2_col7\" class=\"data row2 col7\" >0.90</td>\n",
                            "    </tr>\n",
                            "  </tbody>\n",
                            "</table>\n"
                        ],
                        "text/plain": [
                            "<pandas.io.formats.style.Styler at 0x1b62e123610>"
                        ]
                    },
                    "execution_count": 4,
                    "metadata": {},
                    "output_type": "execute_result"
                }
            ],
            "source": [
                "cc.skill().style(precision=2)"
            ]
        },
        {
            "attachments": {},
            "cell_type": "markdown",
            "metadata": {},
            "source": [
                "Select a specific metric"
            ]
        },
        {
            "cell_type": "code",
            "execution_count": 5,
            "metadata": {},
            "outputs": [
                {
                    "data": {
                        "text/html": [
                            "<div>\n",
                            "<style scoped>\n",
                            "    .dataframe tbody tr th:only-of-type {\n",
                            "        vertical-align: middle;\n",
                            "    }\n",
                            "\n",
                            "    .dataframe tbody tr th {\n",
                            "        vertical-align: top;\n",
                            "    }\n",
                            "\n",
                            "    .dataframe thead th {\n",
                            "        text-align: right;\n",
                            "    }\n",
                            "</style>\n",
                            "<table border=\"1\" class=\"dataframe\">\n",
                            "  <thead>\n",
                            "    <tr style=\"text-align: right;\">\n",
                            "      <th></th>\n",
                            "      <th>n</th>\n",
                            "      <th>mean_absolute_error</th>\n",
                            "    </tr>\n",
                            "    <tr>\n",
                            "      <th>observation</th>\n",
                            "      <th></th>\n",
                            "      <th></th>\n",
                            "    </tr>\n",
                            "  </thead>\n",
                            "  <tbody>\n",
                            "    <tr>\n",
                            "      <th>EPL</th>\n",
                            "      <td>67</td>\n",
                            "      <td>0.188513</td>\n",
                            "    </tr>\n",
                            "    <tr>\n",
                            "      <th>HKNA</th>\n",
                            "      <td>386</td>\n",
                            "      <td>0.251839</td>\n",
                            "    </tr>\n",
                            "    <tr>\n",
                            "      <th>c2</th>\n",
                            "      <td>113</td>\n",
                            "      <td>0.294585</td>\n",
                            "    </tr>\n",
                            "  </tbody>\n",
                            "</table>\n",
                            "</div>"
                        ],
                        "text/plain": [
                            "               n  mean_absolute_error\n",
                            "observation                          \n",
                            "EPL           67             0.188513\n",
                            "HKNA         386             0.251839\n",
                            "c2           113             0.294585"
                        ]
                    },
                    "execution_count": 5,
                    "metadata": {},
                    "output_type": "execute_result"
                }
            ],
            "source": [
                "cc.skill(metrics=\"mean_absolute_error\")"
            ]
        },
        {
            "attachments": {},
            "cell_type": "markdown",
            "metadata": {},
            "source": []
        },
        {
            "attachments": {},
            "cell_type": "markdown",
            "metadata": {},
            "source": [
                "Some metrics has parameters, which require a bit special treatment."
            ]
        },
        {
            "cell_type": "code",
            "execution_count": 6,
            "metadata": {},
            "outputs": [
                {
                    "data": {
                        "text/html": [
                            "<style type=\"text/css\">\n",
                            "</style>\n",
                            "<table id=\"T_908c6\">\n",
                            "  <thead>\n",
                            "    <tr>\n",
                            "      <th class=\"blank level0\" >&nbsp;</th>\n",
                            "      <th id=\"T_908c6_level0_col0\" class=\"col_heading level0 col0\" >n</th>\n",
                            "      <th id=\"T_908c6_level0_col1\" class=\"col_heading level0 col1\" >hit_ratio_05_pct</th>\n",
                            "      <th id=\"T_908c6_level0_col2\" class=\"col_heading level0 col2\" >hit_ratio_01_pct</th>\n",
                            "    </tr>\n",
                            "    <tr>\n",
                            "      <th class=\"index_name level0\" >observation</th>\n",
                            "      <th class=\"blank col0\" >&nbsp;</th>\n",
                            "      <th class=\"blank col1\" >&nbsp;</th>\n",
                            "      <th class=\"blank col2\" >&nbsp;</th>\n",
                            "    </tr>\n",
                            "  </thead>\n",
                            "  <tbody>\n",
                            "    <tr>\n",
                            "      <th id=\"T_908c6_level0_row0\" class=\"row_heading level0 row0\" >EPL</th>\n",
                            "      <td id=\"T_908c6_row0_col0\" class=\"data row0 col0\" >67</td>\n",
                            "      <td id=\"T_908c6_row0_col1\" class=\"data row0 col1\" >99</td>\n",
                            "      <td id=\"T_908c6_row0_col2\" class=\"data row0 col2\" >27</td>\n",
                            "    </tr>\n",
                            "    <tr>\n",
                            "      <th id=\"T_908c6_level0_row1\" class=\"row_heading level0 row1\" >HKNA</th>\n",
                            "      <td id=\"T_908c6_row1_col0\" class=\"data row1 col0\" >386</td>\n",
                            "      <td id=\"T_908c6_row1_col1\" class=\"data row1 col1\" >87</td>\n",
                            "      <td id=\"T_908c6_row1_col2\" class=\"data row1 col2\" >30</td>\n",
                            "    </tr>\n",
                            "    <tr>\n",
                            "      <th id=\"T_908c6_level0_row2\" class=\"row_heading level0 row2\" >c2</th>\n",
                            "      <td id=\"T_908c6_row2_col0\" class=\"data row2 col0\" >113</td>\n",
                            "      <td id=\"T_908c6_row2_col1\" class=\"data row2 col1\" >86</td>\n",
                            "      <td id=\"T_908c6_row2_col2\" class=\"data row2 col2\" >17</td>\n",
                            "    </tr>\n",
                            "  </tbody>\n",
                            "</table>\n"
                        ],
                        "text/plain": [
                            "<pandas.io.formats.style.Styler at 0x1b62e123bb0>"
                        ]
                    },
                    "execution_count": 6,
                    "metadata": {},
                    "output_type": "execute_result"
                }
            ],
            "source": [
                "from modelskill.metrics import hit_ratio\n",
                "\n",
                "def hit_ratio_05_pct(obs, model):\n",
                "    return hit_ratio(obs, model, 0.5) * 100\n",
                "\n",
                "def hit_ratio_01_pct(obs, model):\n",
                "    return hit_ratio(obs, model, 0.1) * 100\n",
                "\n",
                "cc.skill(metrics=[hit_ratio_05_pct, hit_ratio_01_pct]).style(precision=0)"
            ]
        },
        {
            "attachments": {},
            "cell_type": "markdown",
            "metadata": {},
            "source": [
                "It is also possible to do it in a single line using a lambda function (anonymous function), with the downside that the anonymous function has no name, and thus no automatic column label :-("
            ]
        },
        {
            "cell_type": "code",
            "execution_count": 7,
            "metadata": {},
            "outputs": [
                {
                    "data": {
                        "text/html": [
                            "<div>\n",
                            "<style scoped>\n",
                            "    .dataframe tbody tr th:only-of-type {\n",
                            "        vertical-align: middle;\n",
                            "    }\n",
                            "\n",
                            "    .dataframe tbody tr th {\n",
                            "        vertical-align: top;\n",
                            "    }\n",
                            "\n",
                            "    .dataframe thead th {\n",
                            "        text-align: right;\n",
                            "    }\n",
                            "</style>\n",
                            "<table border=\"1\" class=\"dataframe\">\n",
                            "  <thead>\n",
                            "    <tr style=\"text-align: right;\">\n",
                            "      <th></th>\n",
                            "      <th>n</th>\n",
                            "      <th>&lt;lambda&gt;</th>\n",
                            "    </tr>\n",
                            "    <tr>\n",
                            "      <th>observation</th>\n",
                            "      <th></th>\n",
                            "      <th></th>\n",
                            "    </tr>\n",
                            "  </thead>\n",
                            "  <tbody>\n",
                            "    <tr>\n",
                            "      <th>EPL</th>\n",
                            "      <td>67</td>\n",
                            "      <td>0.268657</td>\n",
                            "    </tr>\n",
                            "    <tr>\n",
                            "      <th>HKNA</th>\n",
                            "      <td>386</td>\n",
                            "      <td>0.295337</td>\n",
                            "    </tr>\n",
                            "    <tr>\n",
                            "      <th>c2</th>\n",
                            "      <td>113</td>\n",
                            "      <td>0.168142</td>\n",
                            "    </tr>\n",
                            "  </tbody>\n",
                            "</table>\n",
                            "</div>"
                        ],
                        "text/plain": [
                            "               n  <lambda>\n",
                            "observation               \n",
                            "EPL           67  0.268657\n",
                            "HKNA         386  0.295337\n",
                            "c2           113  0.168142"
                        ]
                    },
                    "execution_count": 7,
                    "metadata": {},
                    "output_type": "execute_result"
                }
            ],
            "source": [
                "cc.skill(metrics=lambda obs, model : hit_ratio(obs, model, 0.1))"
            ]
        },
        {
            "attachments": {},
            "cell_type": "markdown",
            "metadata": {},
            "source": [
                "And you are of course always free to specify your own special metric."
            ]
        },
        {
            "cell_type": "code",
            "execution_count": 8,
            "metadata": {},
            "outputs": [
                {
                    "data": {
                        "text/html": [
                            "<div>\n",
                            "<style scoped>\n",
                            "    .dataframe tbody tr th:only-of-type {\n",
                            "        vertical-align: middle;\n",
                            "    }\n",
                            "\n",
                            "    .dataframe tbody tr th {\n",
                            "        vertical-align: top;\n",
                            "    }\n",
                            "\n",
                            "    .dataframe thead th {\n",
                            "        text-align: right;\n",
                            "    }\n",
                            "</style>\n",
                            "<table border=\"1\" class=\"dataframe\">\n",
                            "  <thead>\n",
                            "    <tr style=\"text-align: right;\">\n",
                            "      <th></th>\n",
                            "      <th>n</th>\n",
                            "      <th>my_special_metric</th>\n",
                            "    </tr>\n",
                            "    <tr>\n",
                            "      <th>observation</th>\n",
                            "      <th></th>\n",
                            "      <th></th>\n",
                            "    </tr>\n",
                            "  </thead>\n",
                            "  <tbody>\n",
                            "    <tr>\n",
                            "      <th>EPL</th>\n",
                            "      <td>67</td>\n",
                            "      <td>0.127555</td>\n",
                            "    </tr>\n",
                            "    <tr>\n",
                            "      <th>HKNA</th>\n",
                            "      <td>386</td>\n",
                            "      <td>0.223049</td>\n",
                            "    </tr>\n",
                            "    <tr>\n",
                            "      <th>c2</th>\n",
                            "      <td>113</td>\n",
                            "      <td>0.147897</td>\n",
                            "    </tr>\n",
                            "  </tbody>\n",
                            "</table>\n",
                            "</div>"
                        ],
                        "text/plain": [
                            "               n  my_special_metric\n",
                            "observation                        \n",
                            "EPL           67           0.127555\n",
                            "HKNA         386           0.223049\n",
                            "c2           113           0.147897"
                        ]
                    },
                    "execution_count": 8,
                    "metadata": {},
                    "output_type": "execute_result"
                }
            ],
            "source": [
                "def my_special_metric(obs, model):\n",
                "\n",
                "    res = obs - model\n",
                "\n",
                "    res_clipped = np.clip(res,0,np.inf)\n",
                "\n",
                "    return np.mean(np.abs(res_clipped))\n",
                "\n",
                "\n",
                "cc.skill(metrics=my_special_metric)"
            ]
        },
        {
            "cell_type": "code",
            "execution_count": null,
            "metadata": {},
            "outputs": [],
            "source": []
        }
    ],
    "metadata": {
        "interpreter": {
            "hash": "04089dccd669f5475382045dd9eff7870585234f8cdbd51ae6db76ccd1cd85e5"
        },
        "kernelspec": {
            "display_name": "Python 3.8.5 64-bit ('base': conda)",
            "name": "python3"
        },
        "language_info": {
            "codemirror_mode": {
                "name": "ipython",
                "version": 3
            },
            "file_extension": ".py",
            "mimetype": "text/x-python",
            "name": "python",
            "nbconvert_exporter": "python",
            "pygments_lexer": "ipython3",
            "version": "3.10.9"
        }
    },
    "nbformat": 4,
    "nbformat_minor": 4
}
