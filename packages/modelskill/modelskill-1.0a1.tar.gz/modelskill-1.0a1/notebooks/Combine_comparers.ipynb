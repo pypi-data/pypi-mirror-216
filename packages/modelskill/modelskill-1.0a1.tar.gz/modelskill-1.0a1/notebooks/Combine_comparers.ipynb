{
    "cells": [
        {
            "attachments": {},
            "cell_type": "markdown",
            "metadata": {},
            "source": [
                "# Combine comparers\n",
                "ModelSkill comparers can be combined by using the \"+\" operator. You may want to add a new ModelResult to your existing comparison or a new observation or a new time period:\n",
                "\n",
                "    cc = cc1 + cc2"
            ]
        },
        {
            "cell_type": "code",
            "execution_count": 1,
            "metadata": {},
            "outputs": [],
            "source": [
                "import modelskill as ms"
            ]
        },
        {
            "attachments": {},
            "cell_type": "markdown",
            "metadata": {},
            "source": [
                "## Observations"
            ]
        },
        {
            "cell_type": "code",
            "execution_count": 2,
            "metadata": {},
            "outputs": [],
            "source": [
                "o1 = ms.PointObservation('../tests/testdata/SW/HKNA_Hm0.dfs0', item=0, x=4.2420, y=52.6887, name=\"HKNA\")\n",
                "o2 = ms.PointObservation(\"../tests/testdata/SW/eur_Hm0.dfs0\", item=0, x=3.2760, y=51.9990, name=\"EPL\")\n",
                "o3 = ms.TrackObservation(\"../tests/testdata/SW/Alti_c2_Dutch.dfs0\", item=3, name=\"c2\")"
            ]
        },
        {
            "attachments": {},
            "cell_type": "markdown",
            "metadata": {},
            "source": [
                "## Model Results"
            ]
        },
        {
            "cell_type": "code",
            "execution_count": 3,
            "metadata": {},
            "outputs": [
                {
                    "data": {
                        "text/plain": [
                            "<GridModelResult> 'CMEMS'"
                        ]
                    },
                    "execution_count": 3,
                    "metadata": {},
                    "output_type": "execute_result"
                }
            ],
            "source": [
                "fn = \"../tests/testdata/SW/CMEMS_DutchCoast_*.nc\"\n",
                "mr1 = ms.ModelResult(fn, name='CMEMS', item='VHM0')\n",
                "mr1"
            ]
        },
        {
            "cell_type": "code",
            "execution_count": 4,
            "metadata": {},
            "outputs": [],
            "source": [
                "mr2 = ms.ModelResult('../tests/testdata/SW/HKZN_local_2017_DutchCoast.dfsu', name='MIKE21SW', item=0)"
            ]
        },
        {
            "attachments": {},
            "cell_type": "markdown",
            "metadata": {},
            "source": [
                "## Connect and extract\n",
                "Notice that the two ModelResults doesn't cover the exact same period."
            ]
        },
        {
            "cell_type": "code",
            "execution_count": 5,
            "metadata": {},
            "outputs": [
                {
                    "data": {
                        "text/plain": [
                            "<AxesSubplot: >"
                        ]
                    },
                    "execution_count": 5,
                    "metadata": {},
                    "output_type": "execute_result"
                },
                {
                    "data": {
                        "image/png": "[encoded data removed]",
                        "text/plain": [
                            "<Figure size 700x225 with 1 Axes>"
                        ]
                    },
                    "metadata": {},
                    "output_type": "display_data"
                }
            ],
            "source": [
                "ms.plot_temporal_coverage(obs=[o1,o2,o3], mod=[mr1,mr2], limit_to_model_period=False)"
            ]
        },
        {
            "cell_type": "code",
            "execution_count": 6,
            "metadata": {},
            "outputs": [],
            "source": [
                "cc1 = ms.compare(obs=[o1,o2,o3], mod=mr1)#, name='SW')\n",
                "cc2 = ms.compare(obs=[o1,o2,o3], mod=mr2)# , name='SW')"
            ]
        },
        {
            "cell_type": "code",
            "execution_count": 7,
            "metadata": {},
            "outputs": [
                {
                    "data": {
                        "text/html": [
                            "<div>\n",
                            "<style scoped>\n",
                            "    .dataframe tbody tr th:only-of-type {\n",
                            "        vertical-align: middle;\n",
                            "    }\n",
                            "\n",
                            "    .dataframe tbody tr th {\n",
                            "        vertical-align: top;\n",
                            "    }\n",
                            "\n",
                            "    .dataframe thead th {\n",
                            "        text-align: right;\n",
                            "    }\n",
                            "</style>\n",
                            "<table border=\"1\" class=\"dataframe\">\n",
                            "  <thead>\n",
                            "    <tr style=\"text-align: right;\">\n",
                            "      <th></th>\n",
                            "      <th>n</th>\n",
                            "      <th>bias</th>\n",
                            "      <th>rmse</th>\n",
                            "      <th>urmse</th>\n",
                            "      <th>mae</th>\n",
                            "      <th>cc</th>\n",
                            "      <th>si</th>\n",
                            "      <th>r2</th>\n",
                            "    </tr>\n",
                            "    <tr>\n",
                            "      <th>observation</th>\n",
                            "      <th></th>\n",
                            "      <th></th>\n",
                            "      <th></th>\n",
                            "      <th></th>\n",
                            "      <th></th>\n",
                            "      <th></th>\n",
                            "      <th></th>\n",
                            "      <th></th>\n",
                            "    </tr>\n",
                            "  </thead>\n",
                            "  <tbody>\n",
                            "    <tr>\n",
                            "      <th>EPL</th>\n",
                            "      <td>43</td>\n",
                            "      <td>-0.440930</td>\n",
                            "      <td>0.518713</td>\n",
                            "      <td>0.273210</td>\n",
                            "      <td>0.443256</td>\n",
                            "      <td>0.920165</td>\n",
                            "      <td>0.089591</td>\n",
                            "      <td>0.445177</td>\n",
                            "    </tr>\n",
                            "    <tr>\n",
                            "      <th>HKNA</th>\n",
                            "      <td>242</td>\n",
                            "      <td>-0.741920</td>\n",
                            "      <td>0.881698</td>\n",
                            "      <td>0.476388</td>\n",
                            "      <td>0.741920</td>\n",
                            "      <td>0.902987</td>\n",
                            "      <td>0.127873</td>\n",
                            "      <td>0.221544</td>\n",
                            "    </tr>\n",
                            "    <tr>\n",
                            "      <th>c2</th>\n",
                            "      <td>39</td>\n",
                            "      <td>-0.302117</td>\n",
                            "      <td>0.472280</td>\n",
                            "      <td>0.363006</td>\n",
                            "      <td>0.397694</td>\n",
                            "      <td>0.935287</td>\n",
                            "      <td>0.091603</td>\n",
                            "      <td>0.745605</td>\n",
                            "    </tr>\n",
                            "  </tbody>\n",
                            "</table>\n",
                            "</div>"
                        ],
                        "text/plain": [
                            "               n      bias      rmse     urmse       mae        cc        si  \\\n",
                            "observation                                                                    \n",
                            "EPL           43 -0.440930  0.518713  0.273210  0.443256  0.920165  0.089591   \n",
                            "HKNA         242 -0.741920  0.881698  0.476388  0.741920  0.902987  0.127873   \n",
                            "c2            39 -0.302117  0.472280  0.363006  0.397694  0.935287  0.091603   \n",
                            "\n",
                            "                   r2  \n",
                            "observation            \n",
                            "EPL          0.445177  \n",
                            "HKNA         0.221544  \n",
                            "c2           0.745605  "
                        ]
                    },
                    "execution_count": 7,
                    "metadata": {},
                    "output_type": "execute_result"
                }
            ],
            "source": [
                "cc1.skill()"
            ]
        },
        {
            "cell_type": "code",
            "execution_count": 8,
            "metadata": {},
            "outputs": [
                {
                    "data": {
                        "text/html": [
                            "<div>\n",
                            "<style scoped>\n",
                            "    .dataframe tbody tr th:only-of-type {\n",
                            "        vertical-align: middle;\n",
                            "    }\n",
                            "\n",
                            "    .dataframe tbody tr th {\n",
                            "        vertical-align: top;\n",
                            "    }\n",
                            "\n",
                            "    .dataframe thead th {\n",
                            "        text-align: right;\n",
                            "    }\n",
                            "</style>\n",
                            "<table border=\"1\" class=\"dataframe\">\n",
                            "  <thead>\n",
                            "    <tr style=\"text-align: right;\">\n",
                            "      <th></th>\n",
                            "      <th>n</th>\n",
                            "      <th>bias</th>\n",
                            "      <th>rmse</th>\n",
                            "      <th>urmse</th>\n",
                            "      <th>mae</th>\n",
                            "      <th>cc</th>\n",
                            "      <th>si</th>\n",
                            "      <th>r2</th>\n",
                            "    </tr>\n",
                            "    <tr>\n",
                            "      <th>observation</th>\n",
                            "      <th></th>\n",
                            "      <th></th>\n",
                            "      <th></th>\n",
                            "      <th></th>\n",
                            "      <th></th>\n",
                            "      <th></th>\n",
                            "      <th></th>\n",
                            "      <th></th>\n",
                            "    </tr>\n",
                            "  </thead>\n",
                            "  <tbody>\n",
                            "    <tr>\n",
                            "      <th>EPL</th>\n",
                            "      <td>67</td>\n",
                            "      <td>-0.066597</td>\n",
                            "      <td>0.223597</td>\n",
                            "      <td>0.213449</td>\n",
                            "      <td>0.188513</td>\n",
                            "      <td>0.969846</td>\n",
                            "      <td>0.082522</td>\n",
                            "      <td>0.932596</td>\n",
                            "    </tr>\n",
                            "    <tr>\n",
                            "      <th>HKNA</th>\n",
                            "      <td>386</td>\n",
                            "      <td>-0.194260</td>\n",
                            "      <td>0.351964</td>\n",
                            "      <td>0.293499</td>\n",
                            "      <td>0.251839</td>\n",
                            "      <td>0.971194</td>\n",
                            "      <td>0.094489</td>\n",
                            "      <td>0.905300</td>\n",
                            "    </tr>\n",
                            "    <tr>\n",
                            "      <th>c2</th>\n",
                            "      <td>113</td>\n",
                            "      <td>-0.001210</td>\n",
                            "      <td>0.351797</td>\n",
                            "      <td>0.351794</td>\n",
                            "      <td>0.294585</td>\n",
                            "      <td>0.974335</td>\n",
                            "      <td>0.127776</td>\n",
                            "      <td>0.899507</td>\n",
                            "    </tr>\n",
                            "  </tbody>\n",
                            "</table>\n",
                            "</div>"
                        ],
                        "text/plain": [
                            "               n      bias      rmse     urmse       mae        cc        si  \\\n",
                            "observation                                                                    \n",
                            "EPL           67 -0.066597  0.223597  0.213449  0.188513  0.969846  0.082522   \n",
                            "HKNA         386 -0.194260  0.351964  0.293499  0.251839  0.971194  0.094489   \n",
                            "c2           113 -0.001210  0.351797  0.351794  0.294585  0.974335  0.127776   \n",
                            "\n",
                            "                   r2  \n",
                            "observation            \n",
                            "EPL          0.932596  \n",
                            "HKNA         0.905300  \n",
                            "c2           0.899507  "
                        ]
                    },
                    "execution_count": 8,
                    "metadata": {},
                    "output_type": "execute_result"
                }
            ],
            "source": [
                "cc2.skill()"
            ]
        },
        {
            "attachments": {},
            "cell_type": "markdown",
            "metadata": {},
            "source": [
                "## Add the two Comparers"
            ]
        },
        {
            "cell_type": "code",
            "execution_count": 9,
            "metadata": {},
            "outputs": [],
            "source": [
                "cc = cc1 + cc2"
            ]
        },
        {
            "cell_type": "code",
            "execution_count": 10,
            "metadata": {},
            "outputs": [
                {
                    "data": {
                        "text/html": [
                            "<div>\n",
                            "<style scoped>\n",
                            "    .dataframe tbody tr th:only-of-type {\n",
                            "        vertical-align: middle;\n",
                            "    }\n",
                            "\n",
                            "    .dataframe tbody tr th {\n",
                            "        vertical-align: top;\n",
                            "    }\n",
                            "\n",
                            "    .dataframe thead th {\n",
                            "        text-align: right;\n",
                            "    }\n",
                            "</style>\n",
                            "<table border=\"1\" class=\"dataframe\">\n",
                            "  <thead>\n",
                            "    <tr style=\"text-align: right;\">\n",
                            "      <th></th>\n",
                            "      <th></th>\n",
                            "      <th>n</th>\n",
                            "      <th>bias</th>\n",
                            "      <th>rmse</th>\n",
                            "      <th>urmse</th>\n",
                            "      <th>mae</th>\n",
                            "      <th>cc</th>\n",
                            "      <th>si</th>\n",
                            "      <th>r2</th>\n",
                            "    </tr>\n",
                            "    <tr>\n",
                            "      <th>model</th>\n",
                            "      <th>observation</th>\n",
                            "      <th></th>\n",
                            "      <th></th>\n",
                            "      <th></th>\n",
                            "      <th></th>\n",
                            "      <th></th>\n",
                            "      <th></th>\n",
                            "      <th></th>\n",
                            "      <th></th>\n",
                            "    </tr>\n",
                            "  </thead>\n",
                            "  <tbody>\n",
                            "    <tr>\n",
                            "      <th rowspan=\"3\" valign=\"top\">CMEMS</th>\n",
                            "      <th>EPL</th>\n",
                            "      <td>43</td>\n",
                            "      <td>-0.440930</td>\n",
                            "      <td>0.518713</td>\n",
                            "      <td>0.273210</td>\n",
                            "      <td>0.443256</td>\n",
                            "      <td>0.920165</td>\n",
                            "      <td>0.089591</td>\n",
                            "      <td>0.445177</td>\n",
                            "    </tr>\n",
                            "    <tr>\n",
                            "      <th>HKNA</th>\n",
                            "      <td>242</td>\n",
                            "      <td>-0.741920</td>\n",
                            "      <td>0.881698</td>\n",
                            "      <td>0.476388</td>\n",
                            "      <td>0.741920</td>\n",
                            "      <td>0.902987</td>\n",
                            "      <td>0.127873</td>\n",
                            "      <td>0.221544</td>\n",
                            "    </tr>\n",
                            "    <tr>\n",
                            "      <th>c2</th>\n",
                            "      <td>39</td>\n",
                            "      <td>-0.302117</td>\n",
                            "      <td>0.472280</td>\n",
                            "      <td>0.363006</td>\n",
                            "      <td>0.397694</td>\n",
                            "      <td>0.935287</td>\n",
                            "      <td>0.091603</td>\n",
                            "      <td>0.745605</td>\n",
                            "    </tr>\n",
                            "    <tr>\n",
                            "      <th rowspan=\"3\" valign=\"top\">MIKE21SW</th>\n",
                            "      <th>EPL</th>\n",
                            "      <td>43</td>\n",
                            "      <td>-0.078281</td>\n",
                            "      <td>0.204842</td>\n",
                            "      <td>0.189294</td>\n",
                            "      <td>0.173804</td>\n",
                            "      <td>0.973262</td>\n",
                            "      <td>0.062073</td>\n",
                            "      <td>0.913476</td>\n",
                            "    </tr>\n",
                            "    <tr>\n",
                            "      <th>HKNA</th>\n",
                            "      <td>242</td>\n",
                            "      <td>-0.229809</td>\n",
                            "      <td>0.411363</td>\n",
                            "      <td>0.341185</td>\n",
                            "      <td>0.295643</td>\n",
                            "      <td>0.948802</td>\n",
                            "      <td>0.091582</td>\n",
                            "      <td>0.830548</td>\n",
                            "    </tr>\n",
                            "    <tr>\n",
                            "      <th>c2</th>\n",
                            "      <td>39</td>\n",
                            "      <td>0.321283</td>\n",
                            "      <td>0.406855</td>\n",
                            "      <td>0.249616</td>\n",
                            "      <td>0.353367</td>\n",
                            "      <td>0.963817</td>\n",
                            "      <td>0.062990</td>\n",
                            "      <td>0.811206</td>\n",
                            "    </tr>\n",
                            "  </tbody>\n",
                            "</table>\n",
                            "</div>"
                        ],
                        "text/plain": [
                            "                        n      bias      rmse     urmse       mae        cc  \\\n",
                            "model    observation                                                          \n",
                            "CMEMS    EPL           43 -0.440930  0.518713  0.273210  0.443256  0.920165   \n",
                            "         HKNA         242 -0.741920  0.881698  0.476388  0.741920  0.902987   \n",
                            "         c2            39 -0.302117  0.472280  0.363006  0.397694  0.935287   \n",
                            "MIKE21SW EPL           43 -0.078281  0.204842  0.189294  0.173804  0.973262   \n",
                            "         HKNA         242 -0.229809  0.411363  0.341185  0.295643  0.948802   \n",
                            "         c2            39  0.321283  0.406855  0.249616  0.353367  0.963817   \n",
                            "\n",
                            "                            si        r2  \n",
                            "model    observation                      \n",
                            "CMEMS    EPL          0.089591  0.445177  \n",
                            "         HKNA         0.127873  0.221544  \n",
                            "         c2           0.091603  0.745605  \n",
                            "MIKE21SW EPL          0.062073  0.913476  \n",
                            "         HKNA         0.091582  0.830548  \n",
                            "         c2           0.062990  0.811206  "
                        ]
                    },
                    "execution_count": 10,
                    "metadata": {},
                    "output_type": "execute_result"
                }
            ],
            "source": [
                "cc.skill()"
            ]
        },
        {
            "cell_type": "code",
            "execution_count": null,
            "metadata": {},
            "outputs": [],
            "source": []
        }
    ],
    "metadata": {
        "interpreter": {
            "hash": "fa576ebcd40e010bdc0ae86b06ce09151f3424f9e9aed6893ff04f39a9299d89"
        },
        "kernelspec": {
            "display_name": "Python 3",
            "language": "python",
            "name": "python3"
        },
        "language_info": {
            "codemirror_mode": {
                "name": "ipython",
                "version": 3
            },
            "file_extension": ".py",
            "mimetype": "text/x-python",
            "name": "python",
            "nbconvert_exporter": "python",
            "pygments_lexer": "ipython3",
            "version": "3.10.9"
        },
        "orig_nbformat": 2
    },
    "nbformat": 4,
    "nbformat_minor": 2
}
