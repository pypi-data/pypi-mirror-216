{
 "cells": [
  {
   "attachments": {},
   "cell_type": "markdown",
   "metadata": {},
   "source": [
    "# Download additional (large) test data\n",
    "\n",
    "Download additional large test data from public sources to '../data'.\n",
    "\n",
    "Data is used for performance testing and some of the notebooks.\n",
    "\n"
   ]
  },
  {
   "cell_type": "code",
   "execution_count": 1,
   "metadata": {},
   "outputs": [],
   "source": [
    "# make data dir (already in .gitignore)\n",
    "import os\n",
    "data_dir = \"../data\"\n",
    "if not os.path.exists(data_dir):\n",
    "    os.makedirs(data_dir)"
   ]
  },
  {
   "attachments": {},
   "cell_type": "markdown",
   "metadata": {},
   "source": [
    "File download from url to filename"
   ]
  },
  {
   "cell_type": "code",
   "execution_count": 2,
   "metadata": {},
   "outputs": [],
   "source": [
    "from tqdm.notebook import tqdm\n",
    "import requests\n",
    "\n",
    "def file_download(url,filename):\n",
    "    print(f\"Download {url} \\nto {filename}\")\n",
    "    r = requests.get(url, stream=True)\n",
    "    size = int(r.headers.get('content-length', 0))\n",
    "    if os.path.exists(filename):\n",
    "        if size == os.path.getsize(filename):\n",
    "            print(\"Local file already exists, skip download.\")\n",
    "            return\n",
    "    pbar = tqdm(total=size, unit='iB', unit_scale=True)  \n",
    "    with open(filename, 'wb') as file:\n",
    "        for chunk in r.iter_content(1024*1024*2): # To-Do: best choice for chunk size?\n",
    "            pbar.update(len(chunk))\n",
    "            file.write(chunk)\n",
    "    pbar.close()"
   ]
  },
  {
   "attachments": {},
   "cell_type": "markdown",
   "metadata": {},
   "source": [
    "## Altimetry test data from DHI blob storage"
   ]
  },
  {
   "cell_type": "code",
   "execution_count": 3,
   "metadata": {},
   "outputs": [
    {
     "name": "stdout",
     "output_type": "stream",
     "text": [
      "Download https://automodelstorage.blob.core.windows.net/globalaltimetry/altimetry_3a_2018_filter1.dfs0 \n",
      "to ../data/altimetry_3a_2018_filter1.dfs0\n"
     ]
    },
    {
     "data": {
      "application/vnd.jupyter.widget-view+json": {
       "model_id": "ebf4ed628a3c4fea9d34cc9affb96dd8",
       "version_major": 2,
       "version_minor": 0
      },
      "text/plain": [
       "  0%|          | 0.00/568M [00:00<?, ?iB/s]"
      ]
     },
     "metadata": {},
     "output_type": "display_data"
    },
    {
     "name": "stdout",
     "output_type": "stream",
     "text": [
      "Download https://automodelstorage.blob.core.windows.net/globalaltimetry/SW_gwm_3a_extracted_2018.dfs0 \n",
      "to ../data/SW_gwm_3a_extracted_2018.dfs0\n"
     ]
    },
    {
     "data": {
      "application/vnd.jupyter.widget-view+json": {
       "model_id": "a1b994c3dfbf41c59f5a60993938a65d",
       "version_major": 2,
       "version_minor": 0
      },
      "text/plain": [
       "  0%|          | 0.00/402M [00:00<?, ?iB/s]"
      ]
     },
     "metadata": {},
     "output_type": "display_data"
    },
    {
     "name": "stdout",
     "output_type": "stream",
     "text": [
      "Download https://automodelstorage.blob.core.windows.net/globalaltimetry/SW_gwm_domain_Hm0_201801.dfsu \n",
      "to ../data/SW_gwm_domain_Hm0_201801.dfsu\n"
     ]
    },
    {
     "data": {
      "application/vnd.jupyter.widget-view+json": {
       "model_id": "1e8bfe88cf0946ffbc2673eaba85b80b",
       "version_major": 2,
       "version_minor": 0
      },
      "text/plain": [
       "  0%|          | 0.00/1.58G [00:00<?, ?iB/s]"
      ]
     },
     "metadata": {},
     "output_type": "display_data"
    },
    {
     "name": "stdout",
     "output_type": "stream",
     "text": [
      "Download https://automodelstorage.blob.core.windows.net/globalaltimetry/ERA5_waves_102017.nc \n",
      "to ../data/ERA5_waves_102017.nc\n"
     ]
    },
    {
     "data": {
      "application/vnd.jupyter.widget-view+json": {
       "model_id": "aaa820f8a4df491280cd49a6e1f28a08",
       "version_major": 2,
       "version_minor": 0
      },
      "text/plain": [
       "  0%|          | 0.00/187M [00:00<?, ?iB/s]"
      ]
     },
     "metadata": {},
     "output_type": "display_data"
    },
    {
     "name": "stdout",
     "output_type": "stream",
     "text": [
      "Download https://automodelstorage.blob.core.windows.net/globalaltimetry/NWW3_hs_201710.grib \n",
      "to ../data/NWW3_hs_201710.grib\n"
     ]
    },
    {
     "data": {
      "application/vnd.jupyter.widget-view+json": {
       "model_id": "86639cc9fffd4d40930bc20ba366c32c",
       "version_major": 2,
       "version_minor": 0
      },
      "text/plain": [
       "  0%|          | 0.00/50.6M [00:00<?, ?iB/s]"
      ]
     },
     "metadata": {},
     "output_type": "display_data"
    },
    {
     "name": "stdout",
     "output_type": "stream",
     "text": [
      "Download https://automodelstorage.blob.core.windows.net/globalaltimetry/NWW3_pwd_201710.grib \n",
      "to ../data/NWW3_pwd_201710.grib\n"
     ]
    },
    {
     "data": {
      "application/vnd.jupyter.widget-view+json": {
       "model_id": "b89deebf848c42049d9434b26a823a4a",
       "version_major": 2,
       "version_minor": 0
      },
      "text/plain": [
       "  0%|          | 0.00/76.7M [00:00<?, ?iB/s]"
      ]
     },
     "metadata": {},
     "output_type": "display_data"
    },
    {
     "name": "stdout",
     "output_type": "stream",
     "text": [
      "Download https://automodelstorage.blob.core.windows.net/globalaltimetry/NWW3_tp_201710.grib \n",
      "to ../data/NWW3_tp_201710.grib\n"
     ]
    },
    {
     "data": {
      "application/vnd.jupyter.widget-view+json": {
       "model_id": "4d4da68dc0414ceeb699e1ff418c415f",
       "version_major": 2,
       "version_minor": 0
      },
      "text/plain": [
       "  0%|          | 0.00/54.9M [00:00<?, ?iB/s]"
      ]
     },
     "metadata": {},
     "output_type": "display_data"
    },
    {
     "name": "stdout",
     "output_type": "stream",
     "text": [
      "Download https://automodelstorage.blob.core.windows.net/globalaltimetry/NWW3_wind10m_201710.grib \n",
      "to ../data/NWW3_wind10m_201710.grib\n"
     ]
    },
    {
     "data": {
      "application/vnd.jupyter.widget-view+json": {
       "model_id": "92d13f85628949ba9b3aff96dd6df9c7",
       "version_major": 2,
       "version_minor": 0
      },
      "text/plain": [
       "  0%|          | 0.00/137M [00:00<?, ?iB/s]"
      ]
     },
     "metadata": {},
     "output_type": "display_data"
    },
    {
     "name": "stdout",
     "output_type": "stream",
     "text": [
      "Download https://automodelstorage.blob.core.windows.net/globalaltimetry/\\WAVERYS_20171027_R20171027.nc \n",
      "to ../data/\\WAVERYS_20171027_R20171027.nc\n"
     ]
    },
    {
     "data": {
      "application/vnd.jupyter.widget-view+json": {
       "model_id": "18d5b5e057c940ef9cea8e4fd30a1db6",
       "version_major": 2,
       "version_minor": 0
      },
      "text/plain": [
       "  0%|          | 0.00/215 [00:00<?, ?iB/s]"
      ]
     },
     "metadata": {},
     "output_type": "display_data"
    },
    {
     "name": "stdout",
     "output_type": "stream",
     "text": [
      "Download https://automodelstorage.blob.core.windows.net/globalaltimetry/WAVERYS_20171028_R20171028.nc \n",
      "to ../data/WAVERYS_20171028_R20171028.nc\n"
     ]
    },
    {
     "data": {
      "application/vnd.jupyter.widget-view+json": {
       "model_id": "fc59f110979e44b988fd145d3fa5305c",
       "version_major": 2,
       "version_minor": 0
      },
      "text/plain": [
       "  0%|          | 0.00/132M [00:00<?, ?iB/s]"
      ]
     },
     "metadata": {},
     "output_type": "display_data"
    },
    {
     "name": "stdout",
     "output_type": "stream",
     "text": [
      "Download https://automodelstorage.blob.core.windows.net/globalaltimetry/WAVERYS_20171029_R20171029.nc \n",
      "to ../data/WAVERYS_20171029_R20171029.nc\n"
     ]
    },
    {
     "data": {
      "application/vnd.jupyter.widget-view+json": {
       "model_id": "6297eadcd52241a687b7a1a41642e507",
       "version_major": 2,
       "version_minor": 0
      },
      "text/plain": [
       "  0%|          | 0.00/133M [00:00<?, ?iB/s]"
      ]
     },
     "metadata": {},
     "output_type": "display_data"
    }
   ],
   "source": [
    "filenames = [\"altimetry_3a_2018_filter1.dfs0\",\n",
    "             \"SW_gwm_3a_extracted_2018.dfs0\",\n",
    "             \"SW_gwm_domain_Hm0_201801.dfsu\",\n",
    "             \"ERA5_waves_102017.nc\",\n",
    "             \"NWW3_hs_201710.grib\",\n",
    "             \"NWW3_pwd_201710.grib\",\n",
    "             \"NWW3_tp_201710.grib\",\n",
    "             \"NWW3_wind10m_201710.grib\",\n",
    "             \"\\WAVERYS_20171027_R20171027.nc\",\n",
    "             \"WAVERYS_20171028_R20171028.nc\",\n",
    "             \"WAVERYS_20171029_R20171029.nc\",\n",
    "             ]\n",
    "for fn in filenames:\n",
    "    url = f\"https://automodelstorage.blob.core.windows.net/globalaltimetry/{fn}\"\n",
    "    fn_target = f\"{data_dir}/{fn}\"\n",
    "    file_download(url,fn_target)"
   ]
  },
  {
   "attachments": {},
   "cell_type": "markdown",
   "metadata": {},
   "source": [
    "## NDBC buoy data"
   ]
  },
  {
   "attachments": {},
   "cell_type": "markdown",
   "metadata": {},
   "source": [
    "## CFSR ..."
   ]
  }
 ],
 "metadata": {
  "kernelspec": {
   "display_name": "base",
   "language": "python",
   "name": "python3"
  },
  "language_info": {
   "codemirror_mode": {
    "name": "ipython",
    "version": 3
   },
   "file_extension": ".py",
   "mimetype": "text/x-python",
   "name": "python",
   "nbconvert_exporter": "python",
   "pygments_lexer": "ipython3",
   "version": "3.10.9"
  },
  "orig_nbformat": 2
 },
 "nbformat": 4,
 "nbformat_minor": 2
}
