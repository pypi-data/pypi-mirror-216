{
 "cells": [
  {
   "cell_type": "markdown",
   "id": "4db583af",
   "metadata": {},
   "source": [
    "# Solve a basic optimization model\n",
    "\n",
    "In this example, we explain the basic functions of the linopy Model class. First, we are setting up a very simple linear optimization model, given by "
   ]
  },
  {
   "cell_type": "markdown",
   "id": "together-ocean",
   "metadata": {},
   "source": [
    "Minimize:\n",
    "$$ x + 2y $$\n",
    "      \n",
    "subject to:\n",
    "\n",
    "$$ x \\ge 0 $$\n",
    "$$y \\ge 0 $$\n",
    "$$3x + 7y \\ge 10 $$\n",
    "$$5x + 2y \\ge 3 $$"
   ]
  },
  {
   "cell_type": "code",
   "execution_count": null,
   "id": "dramatic-cannon",
   "metadata": {},
   "outputs": [],
   "source": [
    "from linopy import Model"
   ]
  },
  {
   "cell_type": "code",
   "execution_count": null,
   "id": "technical-conducting",
   "metadata": {},
   "outputs": [],
   "source": [
    "m = Model()"
   ]
  },
  {
   "cell_type": "markdown",
   "id": "rolled-delicious",
   "metadata": {},
   "source": [
    "The Model class serves at a container for all the relevant data. \n",
    "\n",
    "### Adding variables\n",
    "\n",
    "Let's add the two variables. Note that a variable can always be assigned with a lower and an upper bound. In this case, both `x` and `y` have a lower bound of zero (coming from the first two constraints). Note, the default for lower and upper bounds are minus and plus infinity."
   ]
  },
  {
   "cell_type": "code",
   "execution_count": null,
   "id": "protecting-power",
   "metadata": {},
   "outputs": [],
   "source": [
    "x = m.add_variables(lower=0, name='x')\n",
    "y = m.add_variables(lower=0, name='y');"
   ]
  },
  {
   "cell_type": "markdown",
   "id": "featured-maria",
   "metadata": {},
   "source": [
    "`x` and `y` are linopy variables. Each of them consist of an array with the variable references in the model, that is the names of variables that will finally be used when solving the model. "
   ]
  },
  {
   "cell_type": "code",
   "execution_count": null,
   "id": "virtual-anxiety",
   "metadata": {},
   "outputs": [],
   "source": [
    "x"
   ]
  },
  {
   "cell_type": "markdown",
   "id": "sonic-rebate",
   "metadata": {},
   "source": [
    "Since both `x` and `y` are scalar variables, so their arrays also contain just one variable reference. The variable `x` points to the optimisation variable 1 and the variable `y` points to the optimisation variable 2. Later we will see the benefit of this behaviour.  \n",
    "\n",
    "### Adding Constraints\n",
    "\n",
    "Constraints consist of the left hand side (lhs) and the righ hand side (rhs). The first constraint that we want to write down is \n",
    "$3x + 7y >= 10$, which we can write just exactly in this way"
   ]
  },
  {
   "cell_type": "code",
   "execution_count": null,
   "id": "fbb46cad",
   "metadata": {},
   "outputs": [],
   "source": [
    "3*x + 7*y >= 10"
   ]
  },
  {
   "cell_type": "markdown",
   "id": "f4666bee",
   "metadata": {},
   "source": [
    "Note, we can also mix the constant and the variable expression, like this"
   ]
  },
  {
   "cell_type": "code",
   "execution_count": null,
   "id": "60f41b76",
   "metadata": {},
   "outputs": [],
   "source": [
    "3*x + 7*y - 10 >= 0"
   ]
  },
  {
   "cell_type": "markdown",
   "id": "02abd938",
   "metadata": {},
   "source": [
    "... and linopy will automatically take over the separation of variables expression on the lhs, and constant values on the rhs.\n",
    "\n",
    "The constraint is currently not assigned to the model. We assign it by calling the function `m.add_constraints`."
   ]
  },
  {
   "cell_type": "code",
   "execution_count": null,
   "id": "hollywood-production",
   "metadata": {},
   "outputs": [],
   "source": [
    "m.add_constraints(3*x + 7*y >= 10)\n",
    "m.add_constraints(5*x + 2*y >= 3);"
   ]
  },
  {
   "cell_type": "markdown",
   "id": "global-maple",
   "metadata": {},
   "source": [
    "## Adding the Objective \n",
    "\n",
    "We do the same for defining the objective while the objective function only consists of a linear expression."
   ]
  },
  {
   "cell_type": "code",
   "execution_count": null,
   "id": "overall-exhibition",
   "metadata": {},
   "outputs": [],
   "source": [
    "m.add_objective(x + 2*y)"
   ]
  },
  {
   "cell_type": "code",
   "execution_count": null,
   "id": "pressing-copying",
   "metadata": {},
   "outputs": [],
   "source": [
    "m.solve()"
   ]
  },
  {
   "cell_type": "markdown",
   "id": "preceding-limit",
   "metadata": {},
   "source": [
    "The solution of the linear problem assinged to the variables under `solution` in fom of a `xarray.Dataset`. "
   ]
  },
  {
   "cell_type": "code",
   "execution_count": null,
   "id": "electric-duration",
   "metadata": {},
   "outputs": [],
   "source": [
    "x.solution"
   ]
  },
  {
   "cell_type": "code",
   "execution_count": null,
   "id": "e6d31751",
   "metadata": {},
   "outputs": [],
   "source": [
    "y.solution"
   ]
  },
  {
   "cell_type": "markdown",
   "id": "f2c1a9d5",
   "metadata": {},
   "source": [
    "## Expanding the dimensionality\n",
    "\n",
    "Now comes the interesting part. Suppose the two variables `x` and `y` are a function of time `t` and a modified problem setup like "
   ]
  },
  {
   "cell_type": "markdown",
   "id": "comparable-talent",
   "metadata": {},
   "source": [
    "Minimize:\n",
    "$$\\sum_t x_t + 2 y_t$$\n",
    "\n",
    "subject to:\n",
    "\n",
    "$$\n",
    "x_t \\ge 0 \\qquad \\forall t \\\\\n",
    "y_t \\ge 0 \\qquad \\forall t \\\\\n",
    "3x_t + 7y_t \\ge 10 t \\qquad \\forall t\\\\\n",
    "5x_t + 2y_t \\ge 3 t \\qquad \\forall t\n",
    "$$\n",
    "\n",
    "whereas `t` spans all the range from 0 to 10."
   ]
  },
  {
   "cell_type": "markdown",
   "id": "proprietary-receipt",
   "metadata": {},
   "source": [
    "First, we define a new model (we just overwrite the old `m`)."
   ]
  },
  {
   "cell_type": "code",
   "execution_count": null,
   "id": "close-maximum",
   "metadata": {},
   "outputs": [],
   "source": [
    "m = Model()"
   ]
  },
  {
   "cell_type": "markdown",
   "id": "positive-appearance",
   "metadata": {},
   "source": [
    "Again, we define `x` and `y` using the `add_variables` function, but now we are adding a `coords` argument. This automatically creates optimization variables for all coordinates, in this case time-steps."
   ]
  },
  {
   "cell_type": "code",
   "execution_count": null,
   "id": "included-religious",
   "metadata": {},
   "outputs": [],
   "source": [
    "import pandas as pd\n",
    "time = pd.Index(range(10), name='time')\n",
    "\n",
    "x = m.add_variables(lower=0, coords=[time], name='x', )\n",
    "y = m.add_variables(lower=0, coords=[time], name='y')"
   ]
  },
  {
   "cell_type": "markdown",
   "id": "terminal-ethernet",
   "metadata": {},
   "source": [
    "We again write the constraints out using the syntax from above, while multiplying the rhs with `t`. Note that the coordinates from the lhs and the rhs have to match. \n",
    "\n",
    "*Note: In case lhs and rhs have different sets of coordinates, the constraint creation is broadcasted over all combinations of coordinates.*"
   ]
  },
  {
   "cell_type": "code",
   "execution_count": null,
   "id": "comprehensive-blend",
   "metadata": {},
   "outputs": [],
   "source": [
    "factor = pd.Series(time, index=time)\n",
    "\n",
    "m.add_constraints(3*x + 7*y >= 10*factor, name='Constraint1')\n",
    "m.add_constraints(5*x + 2*y >= 3*factor, name='Constraint2')\n",
    "m"
   ]
  },
  {
   "cell_type": "markdown",
   "id": "induced-professor",
   "metadata": {},
   "source": [
    "When we add the objective, we use the `sum` function of `linopy.LinearExpression`. This stacks the `term_` dimension, such that all terms of the `time` dimension are rewritten into one big expression. "
   ]
  },
  {
   "cell_type": "code",
   "execution_count": null,
   "id": "alternate-story",
   "metadata": {},
   "outputs": [],
   "source": [
    "obj = (x + 2*y).sum()\n",
    "m.add_objective(obj)"
   ]
  },
  {
   "cell_type": "code",
   "execution_count": null,
   "id": "outer-presence",
   "metadata": {},
   "outputs": [],
   "source": [
    "m.solve()"
   ]
  },
  {
   "cell_type": "code",
   "execution_count": null,
   "id": "monthly-census",
   "metadata": {},
   "outputs": [],
   "source": [
    "m.solution.to_dataframe().plot(grid=True, ylabel='Optimal Value')"
   ]
  },
  {
   "cell_type": "markdown",
   "id": "owned-europe",
   "metadata": {},
   "source": [
    "You can easily add dimensions in this way. Since the underlying code is highly relying on `xarray` broadcasting on new dimensions is automatically supported, so even the `rhs` can introduce new dimensions. Just be careful that all variable dimensions have the correct dimension name. "
   ]
  },
  {
   "cell_type": "markdown",
   "id": "classified-colonial",
   "metadata": {},
   "source": [
    "We limit the slope of the `y` variable by adding a constraint in the form of \n",
    "$$ y_{t} - y_{t-1} \\le 0.5 \\qquad \\forall t \\ge 1$$"
   ]
  },
  {
   "cell_type": "code",
   "execution_count": null,
   "id": "organized-hampshire",
   "metadata": {},
   "outputs": [],
   "source": [
    "lhs = (y - y.shift(time=1)).sel(time=time[1:])\n",
    "m.add_constraints(lhs <= 0.5, name='Limited growth y')"
   ]
  },
  {
   "cell_type": "code",
   "execution_count": null,
   "id": "sustained-portrait",
   "metadata": {},
   "outputs": [],
   "source": [
    "m.solve()\n",
    "m.solution.to_dataframe().plot(grid=True, ylabel='Optimal Value');"
   ]
  }
 ],
 "metadata": {
  "@webio": {
   "lastCommId": null,
   "lastKernelId": null
  },
  "kernelspec": {
   "display_name": "Python 3",
   "language": "python",
   "name": "python3"
  },
  "language_info": {
   "codemirror_mode": {
    "name": "ipython",
    "version": 3
   },
   "file_extension": ".py",
   "mimetype": "text/x-python",
   "name": "python",
   "nbconvert_exporter": "python",
   "pygments_lexer": "ipython3",
   "version": "3.11.3"
  }
 },
 "nbformat": 4,
 "nbformat_minor": 5
}
