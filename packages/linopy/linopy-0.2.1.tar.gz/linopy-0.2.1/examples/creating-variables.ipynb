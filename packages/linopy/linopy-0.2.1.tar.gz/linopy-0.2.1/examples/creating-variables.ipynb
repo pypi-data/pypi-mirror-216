{
 "cells": [
  {
   "cell_type": "markdown",
   "id": "e8249281",
   "metadata": {},
   "source": [
    "# Creating variables\n",
    "\n",
    "Variables are created and at the same time assigned to the model using the function \n",
    "\n",
    "```\n",
    "model.add_variables\n",
    "```\n",
    "where `model` is a `linopy.Model` instance. In the following we show how this function works and what the resulting variables look like. So, let's create a model and go through it!"
   ]
  },
  {
   "cell_type": "code",
   "execution_count": null,
   "id": "e0c196e4",
   "metadata": {},
   "outputs": [],
   "source": [
    "from linopy import Model\n",
    "import numpy as np\n",
    "import pandas as pd\n",
    "import xarray as xr\n",
    "m = Model()"
   ]
  },
  {
   "cell_type": "markdown",
   "id": "6c6420a7",
   "metadata": {},
   "source": [
    "First of all it is crucial to know, that the return value of the `.add_variables` function is a `linopy.Variable` which is essentially like an `xarray.DataArray`, but it some additional features. That means it can have an arbitrary number of labeled dimensions. For each coordinate, exactly one representative scalar variable is defined. \n",
    "\n",
    "The first three arguments of the `.add_variables` function are \n",
    "1. `lower` denoting the lower bound of the variables (default `-inf`) \n",
    "2. `upper` denoting the upper bound (default `+inf`)\n",
    "3. `coords` (default None). \n",
    "These argument determine the shape of the added variable array. \n",
    "\n",
    "Generally, the function is strongly aligned to the initialization of an `xarray.DataArray`, meaning `lower` and `upper` can be \n",
    "\n",
    "* scalar values (int/float)\n",
    "* numpy ndarray's\n",
    "* pandas Series\n",
    "* pandas DataFrame's\n",
    "* xarray DataArray's\n",
    "\n",
    "\n",
    "Note that scalars, numpy objects and pandas objects do not have or do not require dimension names. Thus, the naming of the dimensions are done by `xarray` if not explicitly passing `coords`. As we show later, it is very important to take care of the dimension names.    "
   ]
  },
  {
   "cell_type": "markdown",
   "id": "a2283b9a",
   "metadata": {},
   "source": [
    "## Using scalar values\n",
    "\n",
    "If we just keep the default, which is `-inf` and `+inf` for `lower` and `upper`, the code returns"
   ]
  },
  {
   "cell_type": "code",
   "execution_count": null,
   "id": "ee589323",
   "metadata": {},
   "outputs": [],
   "source": [
    "m.add_variables()"
   ]
  },
  {
   "cell_type": "markdown",
   "id": "de3f227e",
   "metadata": {},
   "source": [
    "which is a variable without any coordinates and with just one scalar variable with label `0`. \n",
    "You can pass any scalar to the lower and upper bounds, e.g."
   ]
  },
  {
   "cell_type": "code",
   "execution_count": null,
   "id": "1b0ea3d6",
   "metadata": {},
   "outputs": [],
   "source": [
    "m.add_variables(lower=9, upper=15)"
   ]
  },
  {
   "cell_type": "markdown",
   "id": "e7b0c023",
   "metadata": {},
   "source": [
    "If `coords` is given, these will be ignored. "
   ]
  },
  {
   "cell_type": "markdown",
   "id": "437cc7a1",
   "metadata": {},
   "source": [
    "## Using numpy arrays\n",
    "\n",
    "If `lower` and `upper` are numpy arrays, `linopy` requires the `coords` argument not to be `None`, otherwise an error is raised. Thus, it is helpful to define the coordinates in advance and pass it to the function."
   ]
  },
  {
   "cell_type": "code",
   "execution_count": null,
   "id": "0fe33c34",
   "metadata": {
    "scrolled": true
   },
   "outputs": [],
   "source": [
    "coords = pd.RangeIndex(2, name='a'),\n",
    "lower=np.array([1,2])\n",
    "m.add_variables(lower=lower, coords=coords)"
   ]
  },
  {
   "cell_type": "markdown",
   "id": "5052b9b5",
   "metadata": {},
   "source": [
    "**Note three things:** \n",
    "\n",
    "1. `coords` is an tuple of indexes as expected by `xarray.DataArray`. \n",
    "2. The shape of `lower` is aligned with `coords`.\n",
    "3. A name was set in the index creation. This is helpful as we can ensure which dimension the variable is defined on. Otherwise `xarray` would just insert the dimension names which can lead to unexpected broadcasting later\n",
    "\n",
    "Let's make the same example without adding the dimension name to the index:"
   ]
  },
  {
   "cell_type": "code",
   "execution_count": null,
   "id": "5f0994da",
   "metadata": {},
   "outputs": [],
   "source": [
    "coords = pd.RangeIndex(2),\n",
    "m.add_variables(lower=lower, coords=coords)"
   ]
  },
  {
   "cell_type": "markdown",
   "id": "dff8126d",
   "metadata": {},
   "source": [
    "The dimension is now called `dim_0`, any new assignment of variable without dimension names, will also try to use that dimension name. This is not recommended as it possibly bloats the data structure of the model. \n",
    "\n",
    "**Hint:**\n",
    "If you want to make sure, you are not messing up with dimensions, create the model with the flag `force_dim_names = True`, i.e."
   ]
  },
  {
   "cell_type": "code",
   "execution_count": null,
   "id": "d133a7a4",
   "metadata": {},
   "outputs": [],
   "source": [
    "other = Model(force_dim_names=True)\n",
    "try: \n",
    "    other.add_variables(lower=lower, coords=coords)\n",
    "except ValueError as e:\n",
    "    print(\"This raised an error:\", e)"
   ]
  },
  {
   "cell_type": "markdown",
   "id": "9203ff16",
   "metadata": {},
   "source": [
    "## Using pandas objects\n",
    "\n",
    "Pandas objects always have indexes but do not require dimension names. It is again helpful to ensure that the variable have explicit dimension names, when passing `lower` and `upper` without `coords`. This can be done by either passing the `dims` argument to the `.add_variables` function, i.e."
   ]
  },
  {
   "cell_type": "code",
   "execution_count": null,
   "id": "2cf719be",
   "metadata": {},
   "outputs": [],
   "source": [
    "lower = pd.Series([1,1])\n",
    "upper = pd.Series([10, 12])\n",
    "m.add_variables(lower, upper, dims='my-dim')"
   ]
  },
  {
   "cell_type": "markdown",
   "id": "3a4cf2d4",
   "metadata": {},
   "source": [
    "or naming the indexes and columns of the pandas objects directly, e.g."
   ]
  },
  {
   "cell_type": "code",
   "execution_count": null,
   "id": "61896a6f",
   "metadata": {},
   "outputs": [],
   "source": [
    "lower = pd.Series([1,1]).rename_axis('my-dim')\n",
    "upper = pd.Series([10, 12]).rename_axis('my-dim')\n",
    "m.add_variables(lower, upper)"
   ]
  },
  {
   "cell_type": "markdown",
   "id": "2b462ff9",
   "metadata": {},
   "source": [
    "**Note:** If `lower` and `upper` do not have the same dimension names, the arrays are broadcasted, meaning the dimensions are spanned: "
   ]
  },
  {
   "cell_type": "code",
   "execution_count": null,
   "id": "6ffd5a4e",
   "metadata": {
    "scrolled": true
   },
   "outputs": [],
   "source": [
    "lower = pd.Series([1,1]).rename_axis('my-dim')\n",
    "upper = pd.Series([10, 12]).rename_axis('my-other-dim')\n",
    "m.add_variables(lower, upper)"
   ]
  },
  {
   "cell_type": "markdown",
   "id": "31bbdbab",
   "metadata": {},
   "source": [
    "Now instead of 2 variables, 4 variables were defined.  \n",
    "\n",
    "The similar bahvior accounts for the case when passing a DataFrame and a Series without dimension names. The index axis is the first axis of both object, thus these are expected to be the same (Note that pandas convention, is that Series are aligned and broadcasted along the column dimension of DataFrames):  "
   ]
  },
  {
   "cell_type": "code",
   "execution_count": null,
   "id": "fa2adc81",
   "metadata": {},
   "outputs": [],
   "source": [
    "lower = pd.DataFrame([[1,1, 2], [1,2,2]])\n",
    "upper = pd.Series([10, 12])\n",
    "m.add_variables(lower, upper)"
   ]
  },
  {
   "cell_type": "markdown",
   "id": "8b1734df",
   "metadata": {},
   "source": [
    "Again, one is always safer when explicitly naming the dimensions:"
   ]
  },
  {
   "cell_type": "code",
   "execution_count": null,
   "id": "21f7db15",
   "metadata": {},
   "outputs": [],
   "source": [
    "lower = lower.rename_axis(index='my-dim', columns='my-other-dim')\n",
    "upper = upper.rename_axis('my-dim')\n",
    "m.add_variables(lower, upper)"
   ]
  },
  {
   "cell_type": "markdown",
   "id": "77e264e2",
   "metadata": {},
   "source": [
    "The `coords` and `dims` argument is applied to `lower` and `upper` individually. Hence, when mixing array's of different shapes, setting `coords` or `dims` will raised an error:"
   ]
  },
  {
   "cell_type": "code",
   "execution_count": null,
   "id": "d0fc67cf",
   "metadata": {},
   "outputs": [],
   "source": [
    "coords = pd.Index([1,2]), pd.Index([3,4,5])\n",
    "try:\n",
    "    m.add_variables(lower, upper, coords=coords)\n",
    "except ValueError as e:\n",
    "    print(\"This raises an error:\", e)"
   ]
  },
  {
   "cell_type": "markdown",
   "id": "f8bd2484",
   "metadata": {},
   "source": [
    "## Using xarray DataArray's\n",
    "\n",
    "This is the most straight-forward and recommended method to create variables, as DataArray's have a well defined set of dimension names. "
   ]
  },
  {
   "cell_type": "code",
   "execution_count": null,
   "id": "e7a08f1e",
   "metadata": {},
   "outputs": [],
   "source": [
    "lower = xr.DataArray([1,2,3], coords=(pd.RangeIndex(3),), dims='my-dim')\n",
    "m.add_variables(lower)"
   ]
  },
  {
   "cell_type": "markdown",
   "id": "3f7bbbcb",
   "metadata": {},
   "source": [
    "Again, you can arbitrarily broadcast dimensions when passing DataArray's with different set of dimensions. Note however, linopy expects non empty coordinates, it order to keep the model structure clean. "
   ]
  }
 ],
 "metadata": {
  "@webio": {
   "lastCommId": null,
   "lastKernelId": null
  },
  "kernelspec": {
   "display_name": "Python 3",
   "language": "python",
   "name": "python3"
  },
  "language_info": {
   "codemirror_mode": {
    "name": "ipython",
    "version": 3
   },
   "file_extension": ".py",
   "mimetype": "text/x-python",
   "name": "python",
   "nbconvert_exporter": "python",
   "pygments_lexer": "ipython3",
   "version": "3.10.5"
  }
 },
 "nbformat": 4,
 "nbformat_minor": 5
}
