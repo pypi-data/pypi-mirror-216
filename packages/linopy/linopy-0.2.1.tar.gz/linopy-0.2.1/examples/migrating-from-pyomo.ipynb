{
 "cells": [
  {
   "cell_type": "markdown",
   "id": "ded90143",
   "metadata": {},
   "source": [
    "## Migrating from Pyomo\n",
    "\n",
    "This notebook is still empty and on the todo list."
   ]
  }
 ],
 "metadata": {
  "@webio": {
   "lastCommId": null,
   "lastKernelId": null
  },
  "kernelspec": {
   "display_name": "Python 3",
   "language": "python",
   "name": "python3"
  },
  "language_info": {
   "codemirror_mode": {
    "name": "ipython",
    "version": 3
   },
   "file_extension": ".py",
   "mimetype": "text/x-python",
   "name": "python",
   "nbconvert_exporter": "python",
   "pygments_lexer": "ipython3",
   "version": "3.10.5"
  }
 },
 "nbformat": 4,
 "nbformat_minor": 5
}
